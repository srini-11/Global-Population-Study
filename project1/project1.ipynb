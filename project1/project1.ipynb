{
 "cells": [
  {
   "cell_type": "code",
   "execution_count": 2,
   "metadata": {
    "deletable": false,
    "editable": false
   },
   "outputs": [
    {
     "name": "stdout",
     "output_type": "stream",
     "text": [
      "=====================================================================\n",
      "Assignment: Project 1: World Progress\n",
      "OK, version v1.12.5\n",
      "=====================================================================\n",
      "\n"
     ]
    }
   ],
   "source": [
    "# Initialize OK\n",
    "from client.api.notebook import Notebook\n",
    "ok = Notebook('project1.ok')"
   ]
  },
  {
   "cell_type": "markdown",
   "metadata": {},
   "source": [
    "## Project 1: World Progress"
   ]
  },
  {
   "cell_type": "markdown",
   "metadata": {},
   "source": [
    "In this project, you'll explore data from [Gapminder.org](http://gapminder.org), a website dedicated to providing a fact-based view of the world and how it has changed. That site includes several data visualizations and presentations, but also publishes the raw data that we will use in this project to recreate and extend some of their most famous visualizations.\n",
    "\n",
    "The Gapminder website collects data from many sources and compiles them into tables that describe many countries around the world. All of the data they aggregate are published in the [Systema Globalis](https://github.com/open-numbers/ddf--gapminder--systema_globalis/blob/master/README.md). Their goal is \"to compile all public statistics; Social, Economic and Environmental; into a comparable total dataset.\" All data sets in this project are copied directly from the Systema Globalis without any changes.\n",
    "\n",
    "This project is dedicated to [Hans Rosling](https://en.wikipedia.org/wiki/Hans_Rosling) (1948-2017), who championed the use of data to understand and prioritize global development challenges."
   ]
  },
  {
   "cell_type": "markdown",
   "metadata": {},
   "source": [
    "### Logistics\n",
    "\n",
    "**Deadline.** This project is due at 11:59pm on Friday 2/28. Projects will be accepted up to 2 days (48 hours) late; a project submitted less than 24 hours after the deadline will receive 2/3 credit, a project submitted between 24 and 48 hours after the deadline will receive 1/3 credit, and a project submitted 48 hours or more after the deadline will receive no credit. It's **much** better to be early than late, so start working now.\n",
    "\n",
    "**Checkpoint.** For full credit, you must also complete the first 8 questions, pass all public autograder tests, and submit to okpy by 11:59pm on Friday 2/21. After you've submitted the checkpoint, you may still change your answers before the project deadline - only your final submission will be graded for correctness. You will have some lab time to work on these questions, but we recommend that you start the project before lab and leave time to finish the checkpoint afterward.\n",
    "\n",
    "**Partners.** You may work with one other partner; your partner must be from your assigned lab section. Only one of you is required to submit the project. On [okpy.org](http://okpy.org), the person who submits should also designate their partner so that both of you receive credit.\n",
    "\n",
    "**Rules.** Don't share your code with anybody but your partner. You are welcome to discuss questions with other students, but don't share the answers. The experience of solving the problems in this project will prepare you for exams (and life). If someone asks you for the answer, resist! Instead, you can demonstrate how you would solve a similar problem.\n",
    "\n",
    "**Support.** You are not alone! Come to office hours, post on Piazza, and talk to your classmates. If you want to ask about the details of your solution to a problem, make a private Piazza post and the staff will respond. If you're ever feeling overwhelmed or don't know how to make progress, email your TA or tutor for help. You can find contact information for the staff on the [course website](http://data8.org/sp20/staff.html).\n",
    "\n",
    "**Tests.** The tests that are given are **not comprehensive** and passing the tests for a question **does not** mean that you answered the question correctly. Tests usually only check that your table has the correct column labels. However, more tests will be applied to verify the correctness of your submission in order to assign your final score, so be careful and check your work! You might want to create your own checks along the way to see if your answers make sense. Additionally, before you submit, make sure that none of your cells take a very long time to run (several minutes).\n",
    "\n",
    "**Free Response Questions:** Make sure that you put the answers to the written questions in the indicated cell we provide. Check to make sure that you have a [Gradescope](http://gradescope.com) account, which is where the scores to the free response questions will be posted. If you do not, make sure to reach out to your assigned (u)GSI.\n",
    "\n",
    "**Advice.** Develop your answers incrementally. To perform a complicated table manipulation, break it up into steps, perform each step on a different line, give a new name to each result, and check that each intermediate result is what you expect. You can add any additional names or functions you want to the provided cells. Make sure that you are using distinct and meaningful variable names throughout the notebook. Along that line, **DO NOT** reuse the variable names that we use when we grade your answers. For example, in Question 1 of the Global Poverty section, we ask you to assign an answer to `latest`. Do not reassign the variable name `latest` to anything else in your notebook, otherwise there is the chance that our tests grade against what `latest` was reassigned to.\n",
    "\n",
    "You **never** have to use just one line in this project or any others. Use intermediate variables and multiple lines as much as you would like!  \n",
    "\n",
    "To get started, load `datascience`, `numpy`, `plots`, and `ok`."
   ]
  },
  {
   "cell_type": "code",
   "execution_count": 3,
   "metadata": {},
   "outputs": [
    {
     "name": "stdout",
     "output_type": "stream",
     "text": [
      "=====================================================================\n",
      "Assignment: Project 1: World Progress\n",
      "OK, version v1.12.5\n",
      "=====================================================================\n",
      "\n"
     ]
    }
   ],
   "source": [
    "from datascience import *\n",
    "import numpy as np\n",
    "\n",
    "%matplotlib inline\n",
    "import matplotlib.pyplot as plots\n",
    "plots.style.use('fivethirtyeight')\n",
    "\n",
    "from client.api.notebook import Notebook\n",
    "ok = Notebook('project1.ok')"
   ]
  },
  {
   "cell_type": "markdown",
   "metadata": {},
   "source": [
    "Before continuing the assignment, select \"Save and Checkpoint\" in the File menu and then execute the submit cell below. The result will contain a link that you can use to check that your assignment has been submitted successfully. If you submit more than once before the deadline, we will only grade your final submission. If you mistakenly submit the wrong one, you can head to okpy.org and flag the correct version. There will be another submit cell at the end of the assignment when you finish!"
   ]
  },
  {
   "cell_type": "code",
   "execution_count": 4,
   "metadata": {},
   "outputs": [
    {
     "data": {
      "application/javascript": [
       "IPython.notebook.save_checkpoint();"
      ],
      "text/plain": [
       "<IPython.core.display.Javascript object>"
      ]
     },
     "metadata": {},
     "output_type": "display_data"
    },
    {
     "data": {
      "application/javascript": [
       "IPython.notebook.save_notebook();"
      ],
      "text/plain": [
       "<IPython.core.display.Javascript object>"
      ]
     },
     "metadata": {},
     "output_type": "display_data"
    },
    {
     "name": "stdout",
     "output_type": "stream",
     "text": [
      "Saving notebook... Saved 'project1.ipynb'.\n",
      "Performing authentication\n",
      "Please enter your bCourses email.\n",
      "bCourses email: srini.t@berkeley.edu\n",
      "\n",
      "Copy the following URL and open it in a web browser. To copy,\n",
      "highlight the URL, right-click, and select \"Copy\".\n",
      "\n",
      "https://okpy.org/client/login/\n",
      "\n",
      "After logging in, copy the code from the web page, paste it below,\n",
      "and press Enter. To paste, right-click and select \"Paste\".\n",
      "\n",
      "Paste your code here: YYdBgdS1Zzg4uQvGvAHoTf74LRo5CH\n",
      "Successfully logged in as srini.t@berkeley.edu\n",
      "Submit... 100% complete\n",
      "Submission successful for user: srini.t@berkeley.edu\n",
      "URL: https://okpy.org/cal/data8/sp20/project1/submissions/36k3DM\n",
      "\n"
     ]
    }
   ],
   "source": [
    "_ = ok.submit()"
   ]
  },
  {
   "cell_type": "markdown",
   "metadata": {
    "deletable": false,
    "editable": false
   },
   "source": [
    "## 1. Global Population Growth\n"
   ]
  },
  {
   "cell_type": "markdown",
   "metadata": {
    "deletable": false,
    "editable": false
   },
   "source": [
    "The global population of humans reached 1 billion around 1800, 3 billion around 1960, and 7 billion around 2011. The potential impact of exponential population growth has concerned scientists, economists, and politicians alike.\n",
    "\n",
    "The UN Population Division estimates that the world population will likely continue to grow throughout the 21st century, but at a slower rate, perhaps reaching 11 billion by 2100. However, the UN does not rule out scenarios of more extreme growth.\n",
    "\n",
    "<a href=\"http://www.pewresearch.org/fact-tank/2015/06/08/scientists-more-worried-than-public-about-worlds-growing-population/ft_15-06-04_popcount/\"> \n",
    " <img src=\"pew_population_projection.png\"/> \n",
    "</a>\n",
    "\n",
    "In this section, we will examine some of the factors that influence population growth and how they are changing around the world.\n",
    "\n",
    "The first table we will consider is the total population of each country over time. Run the cell below."
   ]
  },
  {
   "cell_type": "code",
   "execution_count": 5,
   "metadata": {
    "deletable": false,
    "editable": false
   },
   "outputs": [
    {
     "data": {
      "text/html": [
       "<table border=\"1\" class=\"dataframe\">\n",
       "    <thead>\n",
       "        <tr>\n",
       "            <th>geo</th> <th>time</th> <th>population_total</th>\n",
       "        </tr>\n",
       "    </thead>\n",
       "    <tbody>\n",
       "        <tr>\n",
       "            <td>abw </td> <td>1800</td> <td>19286           </td>\n",
       "        </tr>\n",
       "        <tr>\n",
       "            <td>abw </td> <td>1801</td> <td>19286           </td>\n",
       "        </tr>\n",
       "        <tr>\n",
       "            <td>abw </td> <td>1802</td> <td>19286           </td>\n",
       "        </tr>\n",
       "    </tbody>\n",
       "</table>\n",
       "<p>... (87792 rows omitted)</p>"
      ],
      "text/plain": [
       "<IPython.core.display.HTML object>"
      ]
     },
     "metadata": {},
     "output_type": "display_data"
    }
   ],
   "source": [
    "population = Table.read_table('population.csv')\n",
    "population.show(3)"
   ]
  },
  {
   "cell_type": "markdown",
   "metadata": {},
   "source": [
    "**Note:** The population csv file can also be found [here](https://github.com/open-numbers/ddf--gapminder--systema_globalis/raw/master/ddf--datapoints--population_total--by--geo--time.csv). The data for this project was downloaded in February 2017."
   ]
  },
  {
   "cell_type": "markdown",
   "metadata": {
    "deletable": false,
    "editable": false
   },
   "source": [
    "### Bangladesh\n",
    "\n",
    "In the `population` table, the `geo` column contains three-letter codes established by the [International Organization for Standardization](https://en.wikipedia.org/wiki/International_Organization_for_Standardization) (ISO) in the [Alpha-3](https://en.wikipedia.org/wiki/ISO_3166-1_alpha-3#Current_codes) standard. We will begin by taking a close look at Bangladesh. Inspect the standard to find the 3-letter code for Bangladesh."
   ]
  },
  {
   "cell_type": "markdown",
   "metadata": {
    "deletable": false,
    "editable": false
   },
   "source": [
    "**Question 1.** Create a table called `b_pop` that has two columns labeled `time` and `population_total`. The first column should contain the years from 1970 through 2015 (including both 1970 and 2015) and the second should contain the population of Bangladesh in each of those years.\n",
    "\n",
    "<!--\n",
    "BEGIN QUESTION\n",
    "name: q1_1\n",
    "-->"
   ]
  },
  {
   "cell_type": "code",
   "execution_count": 6,
   "metadata": {
    "deletable": false
   },
   "outputs": [
    {
     "data": {
      "text/html": [
       "<table border=\"1\" class=\"dataframe\">\n",
       "    <thead>\n",
       "        <tr>\n",
       "            <th>time</th> <th>population_total</th>\n",
       "        </tr>\n",
       "    </thead>\n",
       "    <tbody>\n",
       "        <tr>\n",
       "            <td>1970</td> <td>65048701        </td>\n",
       "        </tr>\n",
       "        <tr>\n",
       "            <td>1971</td> <td>66417450        </td>\n",
       "        </tr>\n",
       "        <tr>\n",
       "            <td>1972</td> <td>67578486        </td>\n",
       "        </tr>\n",
       "        <tr>\n",
       "            <td>1973</td> <td>68658472        </td>\n",
       "        </tr>\n",
       "        <tr>\n",
       "            <td>1974</td> <td>69837960        </td>\n",
       "        </tr>\n",
       "        <tr>\n",
       "            <td>1975</td> <td>71247153        </td>\n",
       "        </tr>\n",
       "        <tr>\n",
       "            <td>1976</td> <td>72930206        </td>\n",
       "        </tr>\n",
       "        <tr>\n",
       "            <td>1977</td> <td>74848466        </td>\n",
       "        </tr>\n",
       "        <tr>\n",
       "            <td>1978</td> <td>76948378        </td>\n",
       "        </tr>\n",
       "        <tr>\n",
       "            <td>1979</td> <td>79141947        </td>\n",
       "        </tr>\n",
       "    </tbody>\n",
       "</table>\n",
       "<p>... (36 rows omitted)</p>"
      ],
      "text/plain": [
       "time | population_total\n",
       "1970 | 65048701\n",
       "1971 | 66417450\n",
       "1972 | 67578486\n",
       "1973 | 68658472\n",
       "1974 | 69837960\n",
       "1975 | 71247153\n",
       "1976 | 72930206\n",
       "1977 | 74848466\n",
       "1978 | 76948378\n",
       "1979 | 79141947\n",
       "... (36 rows omitted)"
      ]
     },
     "execution_count": 6,
     "metadata": {},
     "output_type": "execute_result"
    }
   ],
   "source": [
    "b_pop = population.where(\"time\", are.between_or_equal_to(1970, 2015)).where(\"geo\", are.equal_to(\"bgd\")).drop(\"geo\")\n",
    "b_pop"
   ]
  },
  {
   "cell_type": "code",
   "execution_count": 7,
   "metadata": {
    "deletable": false,
    "editable": false
   },
   "outputs": [
    {
     "name": "stdout",
     "output_type": "stream",
     "text": [
      "~~~~~~~~~~~~~~~~~~~~~~~~~~~~~~~~~~~~~~~~~~~~~~~~~~~~~~~~~~~~~~~~~~~~~\n",
      "Running tests\n",
      "\n",
      "---------------------------------------------------------------------\n",
      "Test summary\n",
      "    Passed: 2\n",
      "    Failed: 0\n",
      "[ooooooooook] 100.0% passed\n",
      "\n"
     ]
    }
   ],
   "source": [
    "ok.grade(\"q1_1\");"
   ]
  },
  {
   "cell_type": "markdown",
   "metadata": {
    "deletable": false,
    "editable": false
   },
   "source": [
    "Run the following cell to create a table called `b_five` that has the population of Bangladesh every five years. At a glance, it appears that the population of Bangladesh has been growing quickly indeed!"
   ]
  },
  {
   "cell_type": "code",
   "execution_count": 8,
   "metadata": {
    "deletable": false,
    "editable": false
   },
   "outputs": [
    {
     "data": {
      "text/html": [
       "<table border=\"1\" class=\"dataframe\">\n",
       "    <thead>\n",
       "        <tr>\n",
       "            <th>time</th> <th>population_total</th>\n",
       "        </tr>\n",
       "    </thead>\n",
       "    <tbody>\n",
       "        <tr>\n",
       "            <td>1970</td> <td>65,048,701      </td>\n",
       "        </tr>\n",
       "        <tr>\n",
       "            <td>1975</td> <td>71,247,153      </td>\n",
       "        </tr>\n",
       "        <tr>\n",
       "            <td>1980</td> <td>81,364,176      </td>\n",
       "        </tr>\n",
       "        <tr>\n",
       "            <td>1985</td> <td>93,015,182      </td>\n",
       "        </tr>\n",
       "        <tr>\n",
       "            <td>1990</td> <td>105,983,136     </td>\n",
       "        </tr>\n",
       "        <tr>\n",
       "            <td>1995</td> <td>118,427,768     </td>\n",
       "        </tr>\n",
       "        <tr>\n",
       "            <td>2000</td> <td>131,280,739     </td>\n",
       "        </tr>\n",
       "        <tr>\n",
       "            <td>2005</td> <td>142,929,979     </td>\n",
       "        </tr>\n",
       "        <tr>\n",
       "            <td>2010</td> <td>151,616,777     </td>\n",
       "        </tr>\n",
       "        <tr>\n",
       "            <td>2015</td> <td>160,995,642     </td>\n",
       "        </tr>\n",
       "    </tbody>\n",
       "</table>"
      ],
      "text/plain": [
       "time | population_total\n",
       "1970 | 65,048,701\n",
       "1975 | 71,247,153\n",
       "1980 | 81,364,176\n",
       "1985 | 93,015,182\n",
       "1990 | 105,983,136\n",
       "1995 | 118,427,768\n",
       "2000 | 131,280,739\n",
       "2005 | 142,929,979\n",
       "2010 | 151,616,777\n",
       "2015 | 160,995,642"
      ]
     },
     "execution_count": 8,
     "metadata": {},
     "output_type": "execute_result"
    }
   ],
   "source": [
    "b_pop.set_format('population_total', NumberFormatter)\n",
    "\n",
    "fives = np.arange(1970, 2016, 5) # 1970, 1975, 1980, ...\n",
    "b_five = b_pop.sort('time').where('time', are.contained_in(fives))\n",
    "b_five"
   ]
  },
  {
   "cell_type": "markdown",
   "metadata": {
    "deletable": false,
    "editable": false
   },
   "source": [
    "**Question 2.** Assign `initial` to an array that contains the population for every five year interval from 1970 to 2010. Then, assign `changed` to an array that contains the population for every five year interval from 1975 to 2015. You should use the `b_five` table to create both arrays, first filtering the table to only contain the relevant years.\n",
    "\n",
    "We have provided the code below that uses  `initial` and `changed` in order to add a column to `b_five` called `annual_growth`. Don't worry about the calculation of the growth rates; run the test below to test your solution.\n",
    "\n",
    "If you are interested in how we came up with the formula for growth rates, consult the [growth rates](https://www.inferentialthinking.com/chapters/03/2/1/growth) section of the textbook.\n",
    "\n",
    "<!--\n",
    "BEGIN QUESTION\n",
    "name: q1_2\n",
    "-->"
   ]
  },
  {
   "cell_type": "code",
   "execution_count": 9,
   "metadata": {
    "deletable": false
   },
   "outputs": [
    {
     "data": {
      "text/html": [
       "<table border=\"1\" class=\"dataframe\">\n",
       "    <thead>\n",
       "        <tr>\n",
       "            <th>time</th> <th>population_total</th> <th>annual_growth</th>\n",
       "        </tr>\n",
       "    </thead>\n",
       "    <tbody>\n",
       "        <tr>\n",
       "            <td>1970</td> <td>65,048,701      </td> <td>1.84%        </td>\n",
       "        </tr>\n",
       "        <tr>\n",
       "            <td>1975</td> <td>71,247,153      </td> <td>2.69%        </td>\n",
       "        </tr>\n",
       "        <tr>\n",
       "            <td>1980</td> <td>81,364,176      </td> <td>2.71%        </td>\n",
       "        </tr>\n",
       "        <tr>\n",
       "            <td>1985</td> <td>93,015,182      </td> <td>2.64%        </td>\n",
       "        </tr>\n",
       "        <tr>\n",
       "            <td>1990</td> <td>105,983,136     </td> <td>2.25%        </td>\n",
       "        </tr>\n",
       "        <tr>\n",
       "            <td>1995</td> <td>118,427,768     </td> <td>2.08%        </td>\n",
       "        </tr>\n",
       "        <tr>\n",
       "            <td>2000</td> <td>131,280,739     </td> <td>1.71%        </td>\n",
       "        </tr>\n",
       "        <tr>\n",
       "            <td>2005</td> <td>142,929,979     </td> <td>1.19%        </td>\n",
       "        </tr>\n",
       "        <tr>\n",
       "            <td>2010</td> <td>151,616,777     </td> <td>1.21%        </td>\n",
       "        </tr>\n",
       "    </tbody>\n",
       "</table>"
      ],
      "text/plain": [
       "time | population_total | annual_growth\n",
       "1970 | 65,048,701       | 1.84%\n",
       "1975 | 71,247,153       | 2.69%\n",
       "1980 | 81,364,176       | 2.71%\n",
       "1985 | 93,015,182       | 2.64%\n",
       "1990 | 105,983,136      | 2.25%\n",
       "1995 | 118,427,768      | 2.08%\n",
       "2000 | 131,280,739      | 1.71%\n",
       "2005 | 142,929,979      | 1.19%\n",
       "2010 | 151,616,777      | 1.21%"
      ]
     },
     "execution_count": 9,
     "metadata": {},
     "output_type": "execute_result"
    }
   ],
   "source": [
    "initial = b_five.where(\"time\", are.not_equal_to(2015)).column(\"population_total\")\n",
    "changed = b_five.where(\"time\", are.not_equal_to(1970)).column(\"population_total\")\n",
    "\n",
    "b_1970_through_2010 = b_five.where('time', are.below_or_equal_to(2010)) \n",
    "b_five_growth = b_1970_through_2010.with_column('annual_growth', (changed/initial)**0.2-1)\n",
    "b_five_growth.set_format('annual_growth', PercentFormatter)\n"
   ]
  },
  {
   "cell_type": "code",
   "execution_count": 10,
   "metadata": {
    "deletable": false,
    "editable": false
   },
   "outputs": [
    {
     "name": "stdout",
     "output_type": "stream",
     "text": [
      "~~~~~~~~~~~~~~~~~~~~~~~~~~~~~~~~~~~~~~~~~~~~~~~~~~~~~~~~~~~~~~~~~~~~~\n",
      "Running tests\n",
      "\n",
      "---------------------------------------------------------------------\n",
      "Test summary\n",
      "    Passed: 2\n",
      "    Failed: 0\n",
      "[ooooooooook] 100.0% passed\n",
      "\n"
     ]
    }
   ],
   "source": [
    "ok.grade(\"q1_2\");"
   ]
  },
  {
   "cell_type": "markdown",
   "metadata": {
    "deletable": false,
    "editable": false
   },
   "source": [
    "While the population has grown every five years since 1970, the annual growth rate decreased dramatically from 1985 to 2005. Let's look at some other information in order to develop a possible explanation. Run the next cell to load three additional tables of measurements about countries over time."
   ]
  },
  {
   "cell_type": "code",
   "execution_count": 11,
   "metadata": {
    "deletable": false,
    "editable": false
   },
   "outputs": [],
   "source": [
    "life_expectancy = Table.read_table('life_expectancy.csv')\n",
    "child_mortality = Table.read_table('child_mortality.csv').relabel(2, 'child_mortality_under_5_per_1000_born')\n",
    "fertility = Table.read_table('fertility.csv')"
   ]
  },
  {
   "cell_type": "markdown",
   "metadata": {
    "deletable": false,
    "editable": false
   },
   "source": [
    "The `life_expectancy` table contains a statistic that is often used to measure how long people live, called *life expectancy at birth*. This number, for a country in a given year, [does not measure how long babies born in that year are expected to live](http://blogs.worldbank.org/opendata/what-does-life-expectancy-birth-really-mean). Instead, it measures how long someone would live, on average, if the *mortality conditions* in that year persisted throughout their lifetime. These \"mortality conditions\" describe what fraction of people at each age survived the year. So, it is a way of measuring the proportion of people that are staying alive, aggregated over different age groups in the population."
   ]
  },
  {
   "cell_type": "markdown",
   "metadata": {},
   "source": [
    "Run the following cells below to see `life_expectancy`, `child_mortality`, and `fertility`. Refer back to these tables as they will be helpful for answering further questions!"
   ]
  },
  {
   "cell_type": "code",
   "execution_count": 12,
   "metadata": {},
   "outputs": [
    {
     "data": {
      "text/html": [
       "<table border=\"1\" class=\"dataframe\">\n",
       "    <thead>\n",
       "        <tr>\n",
       "            <th>geo</th> <th>time</th> <th>life_expectancy_years</th>\n",
       "        </tr>\n",
       "    </thead>\n",
       "    <tbody>\n",
       "        <tr>\n",
       "            <td>afg </td> <td>1800</td> <td>28.21                </td>\n",
       "        </tr>\n",
       "        <tr>\n",
       "            <td>afg </td> <td>1801</td> <td>28.2                 </td>\n",
       "        </tr>\n",
       "        <tr>\n",
       "            <td>afg </td> <td>1802</td> <td>28.19                </td>\n",
       "        </tr>\n",
       "        <tr>\n",
       "            <td>afg </td> <td>1803</td> <td>28.18                </td>\n",
       "        </tr>\n",
       "        <tr>\n",
       "            <td>afg </td> <td>1804</td> <td>28.17                </td>\n",
       "        </tr>\n",
       "        <tr>\n",
       "            <td>afg </td> <td>1805</td> <td>28.16                </td>\n",
       "        </tr>\n",
       "        <tr>\n",
       "            <td>afg </td> <td>1806</td> <td>28.15                </td>\n",
       "        </tr>\n",
       "        <tr>\n",
       "            <td>afg </td> <td>1807</td> <td>28.14                </td>\n",
       "        </tr>\n",
       "        <tr>\n",
       "            <td>afg </td> <td>1808</td> <td>28.13                </td>\n",
       "        </tr>\n",
       "        <tr>\n",
       "            <td>afg </td> <td>1809</td> <td>28.12                </td>\n",
       "        </tr>\n",
       "    </tbody>\n",
       "</table>\n",
       "<p>... (43847 rows omitted)</p>"
      ],
      "text/plain": [
       "geo  | time | life_expectancy_years\n",
       "afg  | 1800 | 28.21\n",
       "afg  | 1801 | 28.2\n",
       "afg  | 1802 | 28.19\n",
       "afg  | 1803 | 28.18\n",
       "afg  | 1804 | 28.17\n",
       "afg  | 1805 | 28.16\n",
       "afg  | 1806 | 28.15\n",
       "afg  | 1807 | 28.14\n",
       "afg  | 1808 | 28.13\n",
       "afg  | 1809 | 28.12\n",
       "... (43847 rows omitted)"
      ]
     },
     "execution_count": 12,
     "metadata": {},
     "output_type": "execute_result"
    }
   ],
   "source": [
    "life_expectancy"
   ]
  },
  {
   "cell_type": "code",
   "execution_count": 13,
   "metadata": {},
   "outputs": [
    {
     "data": {
      "text/html": [
       "<table border=\"1\" class=\"dataframe\">\n",
       "    <thead>\n",
       "        <tr>\n",
       "            <th>geo</th> <th>time</th> <th>child_mortality_under_5_per_1000_born</th>\n",
       "        </tr>\n",
       "    </thead>\n",
       "    <tbody>\n",
       "        <tr>\n",
       "            <td>afg </td> <td>1800</td> <td>468.6                                </td>\n",
       "        </tr>\n",
       "        <tr>\n",
       "            <td>afg </td> <td>1801</td> <td>468.6                                </td>\n",
       "        </tr>\n",
       "        <tr>\n",
       "            <td>afg </td> <td>1802</td> <td>468.6                                </td>\n",
       "        </tr>\n",
       "        <tr>\n",
       "            <td>afg </td> <td>1803</td> <td>468.6                                </td>\n",
       "        </tr>\n",
       "        <tr>\n",
       "            <td>afg </td> <td>1804</td> <td>468.6                                </td>\n",
       "        </tr>\n",
       "        <tr>\n",
       "            <td>afg </td> <td>1805</td> <td>468.6                                </td>\n",
       "        </tr>\n",
       "        <tr>\n",
       "            <td>afg </td> <td>1806</td> <td>470                                  </td>\n",
       "        </tr>\n",
       "        <tr>\n",
       "            <td>afg </td> <td>1807</td> <td>470                                  </td>\n",
       "        </tr>\n",
       "        <tr>\n",
       "            <td>afg </td> <td>1808</td> <td>470                                  </td>\n",
       "        </tr>\n",
       "        <tr>\n",
       "            <td>afg </td> <td>1809</td> <td>470                                  </td>\n",
       "        </tr>\n",
       "    </tbody>\n",
       "</table>\n",
       "<p>... (40746 rows omitted)</p>"
      ],
      "text/plain": [
       "geo  | time | child_mortality_under_5_per_1000_born\n",
       "afg  | 1800 | 468.6\n",
       "afg  | 1801 | 468.6\n",
       "afg  | 1802 | 468.6\n",
       "afg  | 1803 | 468.6\n",
       "afg  | 1804 | 468.6\n",
       "afg  | 1805 | 468.6\n",
       "afg  | 1806 | 470\n",
       "afg  | 1807 | 470\n",
       "afg  | 1808 | 470\n",
       "afg  | 1809 | 470\n",
       "... (40746 rows omitted)"
      ]
     },
     "execution_count": 13,
     "metadata": {},
     "output_type": "execute_result"
    }
   ],
   "source": [
    "child_mortality"
   ]
  },
  {
   "cell_type": "code",
   "execution_count": 14,
   "metadata": {},
   "outputs": [
    {
     "data": {
      "text/html": [
       "<table border=\"1\" class=\"dataframe\">\n",
       "    <thead>\n",
       "        <tr>\n",
       "            <th>geo</th> <th>time</th> <th>children_per_woman_total_fertility</th>\n",
       "        </tr>\n",
       "    </thead>\n",
       "    <tbody>\n",
       "        <tr>\n",
       "            <td>afg </td> <td>1800</td> <td>7                                 </td>\n",
       "        </tr>\n",
       "        <tr>\n",
       "            <td>afg </td> <td>1801</td> <td>7                                 </td>\n",
       "        </tr>\n",
       "        <tr>\n",
       "            <td>afg </td> <td>1802</td> <td>7                                 </td>\n",
       "        </tr>\n",
       "        <tr>\n",
       "            <td>afg </td> <td>1803</td> <td>7                                 </td>\n",
       "        </tr>\n",
       "        <tr>\n",
       "            <td>afg </td> <td>1804</td> <td>7                                 </td>\n",
       "        </tr>\n",
       "        <tr>\n",
       "            <td>afg </td> <td>1805</td> <td>7                                 </td>\n",
       "        </tr>\n",
       "        <tr>\n",
       "            <td>afg </td> <td>1806</td> <td>7                                 </td>\n",
       "        </tr>\n",
       "        <tr>\n",
       "            <td>afg </td> <td>1807</td> <td>7                                 </td>\n",
       "        </tr>\n",
       "        <tr>\n",
       "            <td>afg </td> <td>1808</td> <td>7                                 </td>\n",
       "        </tr>\n",
       "        <tr>\n",
       "            <td>afg </td> <td>1809</td> <td>7                                 </td>\n",
       "        </tr>\n",
       "    </tbody>\n",
       "</table>\n",
       "<p>... (43402 rows omitted)</p>"
      ],
      "text/plain": [
       "geo  | time | children_per_woman_total_fertility\n",
       "afg  | 1800 | 7\n",
       "afg  | 1801 | 7\n",
       "afg  | 1802 | 7\n",
       "afg  | 1803 | 7\n",
       "afg  | 1804 | 7\n",
       "afg  | 1805 | 7\n",
       "afg  | 1806 | 7\n",
       "afg  | 1807 | 7\n",
       "afg  | 1808 | 7\n",
       "afg  | 1809 | 7\n",
       "... (43402 rows omitted)"
      ]
     },
     "execution_count": 14,
     "metadata": {},
     "output_type": "execute_result"
    }
   ],
   "source": [
    "fertility"
   ]
  },
  {
   "cell_type": "markdown",
   "metadata": {
    "deletable": false,
    "editable": false
   },
   "source": [
    "**Question 3.** Perhaps population is growing more slowly because people aren't living as long. Use the `life_expectancy` table to draw a line graph with the years 1970 and later on the horizontal axis that shows how the *life expectancy at birth* has changed in Bangladesh.\n",
    "\n",
    "<!--\n",
    "BEGIN QUESTION\n",
    "name: q1_3\n",
    "manual: true\n",
    "-->\n",
    "<!-- EXPORT TO PDF -->"
   ]
  },
  {
   "cell_type": "code",
   "execution_count": 15,
   "metadata": {
    "deletable": false,
    "export_pdf": true,
    "manual_grade": true,
    "manual_problem_id": "global_pop_3"
   },
   "outputs": [
    {
     "data": {
      "text/plain": [
       "Text(0.5, 1.0, 'Bangladesh Life Expectancy over time')"
      ]
     },
     "execution_count": 15,
     "metadata": {},
     "output_type": "execute_result"
    },
    {
     "data": {
      "image/png": "[encoded data removed]",
      "text/plain": [
       "<Figure size 432x288 with 1 Axes>"
      ]
     },
     "metadata": {},
     "output_type": "display_data"
    }
   ],
   "source": [
    "#Fill in code here\n",
    "life_expectancy_values = life_expectancy.where(\"time\", are.between_or_equal_to(1970, 2015)).where(\"geo\", are.equal_to(\"bgd\")).drop(\"geo\").column(\"life_expectancy_years\")\n",
    "time_values = life_expectancy.where(\"time\", are.between_or_equal_to(1970, 2015)).where(\"geo\", are.equal_to(\"bgd\")).drop(\"geo\").column(\"time\")\n",
    "\n",
    "plots.plot(time_values, life_expectancy_values)\n",
    "plots.xlabel(\"Year\")\n",
    "plots.ylabel(\"Life Expectancy \")\n",
    "plots.title(\"Bangladesh Life Expectancy over time\")\n",
    "\n",
    "#life_expectancy_values"
   ]
  },
  {
   "cell_type": "markdown",
   "metadata": {
    "deletable": false,
    "editable": false
   },
   "source": [
    "**Question 4.** Assuming everything else stays the same, do the trends in life expectancy in the graph above directly explain why the population growth rate decreased from 1985 to 2010 in Bangladesh? Why or why not? \n",
    "\n",
    "Hint: What happened in Bangladesh in 1991, and does that event explain the overall change in population growth rate?\n",
    "\n",
    "<!--\n",
    "BEGIN QUESTION\n",
    "name: q1_4\n",
    "manual: true\n",
    "-->\n",
    "<!-- EXPORT TO PDF -->"
   ]
  },
  {
   "cell_type": "markdown",
   "metadata": {
    "collapsed": true,
    "deletable": false,
    "export_pdf": true,
    "manual_grade": true,
    "manual_problem_id": "global_pop_4"
   },
   "source": [
    "No, it doesn't. \n",
    "\n",
    "Although there appears to be a negative correlation, there is no evidence for causation. In 1991 the life expectancy dropped due to a massive cyclone that hit Bangladesh (and maybe because of the fall of the Soviet Union). During this time, the trend of decreasing growth rates persisted in Bangladesh (although it's difficult to tell because the growth rate is only calculated in 5 year intervals while life expectancy is calculated  annually). This shows that the life expectancy doesn't explain growth rates."
   ]
  },
  {
   "cell_type": "markdown",
   "metadata": {
    "deletable": false,
    "editable": false
   },
   "source": [
    "The `fertility` table contains a statistic that is often used to measure how many babies are being born, the *total fertility rate*. This number describes the [number of children a woman would have in her lifetime](https://www.measureevaluation.org/prh/rh_indicators/specific/fertility/total-fertility-rate), on average, if the current rates of birth by age of the mother persisted throughout her child bearing years, assuming she survived through age 49. "
   ]
  },
  {
   "cell_type": "markdown",
   "metadata": {
    "deletable": false,
    "editable": false
   },
   "source": [
    "**Question 5.** Write a function `fertility_over_time` that takes the Alpha-3 code of a `country` and a `start` year. It returns a two-column table with labels `Year` and `Children per woman` that can be used to generate a line chart of the country's fertility rate each year, starting at the `start` year. The plot should include the `start` year and all later years that appear in the `fertility` table. \n",
    "\n",
    "Then, in the next cell, call your `fertility_over_time` function on the Alpha-3 code for Bangladesh and the year 1970 in order to plot how Bangladesh's fertility rate has changed since 1970. Note that the function `fertility_over_time` should not return the plot itself. **The expression that draws the line plot is provided for you; please don't change it.**\n",
    "\n",
    "<!--\n",
    "BEGIN QUESTION\n",
    "name: q1_5\n",
    "-->"
   ]
  },
  {
   "cell_type": "code",
   "execution_count": 16,
   "metadata": {
    "deletable": false
   },
   "outputs": [
    {
     "data": {
      "image/png": "[encoded data removed]",
      "text/plain": [
       "<Figure size 432x288 with 1 Axes>"
      ]
     },
     "metadata": {},
     "output_type": "display_data"
    },
    {
     "data": {
      "image/png": "[encoded data removed]",
      "text/plain": [
       "<Figure size 432x288 with 1 Axes>"
      ]
     },
     "metadata": {},
     "output_type": "display_data"
    }
   ],
   "source": [
    "def fertility_over_time(country, start):\n",
    "    \"\"\"Create a two-column table that describes a country's total fertility rate each year.\"\"\"\n",
    "\n",
    "    return_table = fertility.where(\"time\", are.above_or_equal_to(start)).where(\"geo\", are.equal_to(country))\n",
    "    return_table = return_table.drop(\"geo\").relabel(\"time\", \"Year\").relabel(\"children_per_woman_total_fertility\", \"Children per woman\")\n",
    "    \n",
    "    return return_table\n",
    "    \n",
    "bangladesh_code = \"bgd\"\n",
    "fertility_over_time(bangladesh_code, 1970).plot(0, 1) # You should *not* change this line.\n",
    "\n",
    "b_five_growth.plot(\"time\", \"annual_growth\")"
   ]
  },
  {
   "cell_type": "code",
   "execution_count": 17,
   "metadata": {
    "deletable": false,
    "editable": false
   },
   "outputs": [
    {
     "name": "stdout",
     "output_type": "stream",
     "text": [
      "~~~~~~~~~~~~~~~~~~~~~~~~~~~~~~~~~~~~~~~~~~~~~~~~~~~~~~~~~~~~~~~~~~~~~\n",
      "Running tests\n",
      "\n",
      "---------------------------------------------------------------------\n",
      "Test summary\n",
      "    Passed: 3\n",
      "    Failed: 0\n",
      "[ooooooooook] 100.0% passed\n",
      "\n"
     ]
    }
   ],
   "source": [
    "ok.grade(\"q1_5\");"
   ]
  },
  {
   "cell_type": "markdown",
   "metadata": {
    "deletable": false,
    "editable": false
   },
   "source": [
    "**Question 6.** Assuming everything else is constant, do the trends in fertility in the graph above help directly explain why the population growth rate decreased from 1985 to 2010 in Bangladesh? Why or why not?\n",
    "\n",
    "<!--\n",
    "BEGIN QUESTION\n",
    "name: q1_6\n",
    "manual: true\n",
    "-->\n",
    "<!-- EXPORT TO PDF -->"
   ]
  },
  {
   "cell_type": "markdown",
   "metadata": {
    "deletable": false,
    "export_pdf": true,
    "manual_grade": true,
    "manual_problem_id": "global_pop_6"
   },
   "source": [
    "Yes it does. \n",
    "\n",
    "There appears to be a strong positive correlation between fertility and growth rates. the curves follow the same approximate shape(major differences are likeley because growth rates were calculated in 5 year intervals instead of annually like fertility rates). Furthermore, the number of children born determines the population growth rate. The number of children born is dependent on the children per woman.\n",
    "\n",
    "This shows that the life expectancy may explain growth rates. There is a correlation but we cannot conclude cusation."
   ]
  },
  {
   "cell_type": "markdown",
   "metadata": {
    "deletable": false,
    "editable": false
   },
   "source": [
    "It has been observed that lower fertility rates are often associated with lower child mortality rates. The link has been attributed to family planning: if parents can expect that their children will all survive into adulthood, then they will choose to have fewer children. We can see if this association is evident in Bangladesh by plotting the relationship between total fertility rate and [child mortality rate per 1000 children](https://en.wikipedia.org/wiki/Child_mortality)."
   ]
  },
  {
   "cell_type": "markdown",
   "metadata": {
    "deletable": false,
    "editable": false
   },
   "source": [
    "**Question 7.** Using both the `fertility` and `child_mortality` tables, draw a scatter diagram that has Bangladesh's total fertility on the horizontal axis and its child mortality on the vertical axis with one point for each year, starting with 1970.\n",
    "\n",
    "**The expression that draws the scatter diagram is provided for you; please don't change it.** Instead, create a table called `post_1969_fertility_and_child_mortality` with the appropriate column labels and data in order to generate the chart correctly. Use the label `Children per woman` to describe total fertility and the label `Child deaths per 1000 born` to describe child mortality.\n",
    "\n",
    "<!--\n",
    "BEGIN QUESTION\n",
    "name: q1_7\n",
    "manual: false\n",
    "-->"
   ]
  },
  {
   "cell_type": "code",
   "execution_count": 18,
   "metadata": {
    "deletable": false
   },
   "outputs": [
    {
     "data": {
      "image/png": "[encoded data removed]",
      "text/plain": [
       "<Figure size 360x360 with 1 Axes>"
      ]
     },
     "metadata": {},
     "output_type": "display_data"
    }
   ],
   "source": [
    "bgd_fertility = fertility.where(\"geo\", are.equal_to(\"bgd\")).where(\"time\", are.above(1969)).column(\"children_per_woman_total_fertility\")\n",
    "bgd_child_mortality = child_mortality.where(\"geo\", are.equal_to(\"bgd\")).where(\"time\", are.above(1969)).column(\"child_mortality_under_5_per_1000_born\")\n",
    "\n",
    "fertility_and_child_mortality = Table().with_columns(\"Children per woman\", bgd_fertility, \"Child deaths per 1000 born\", bgd_child_mortality)\n",
    "\n",
    "post_1969_fertility_and_child_mortality = fertility_and_child_mortality\n",
    "\n",
    "post_1969_fertility_and_child_mortality.scatter('Children per woman', 'Child deaths per 1000 born') # You should *not* change this line."
   ]
  },
  {
   "cell_type": "code",
   "execution_count": 19,
   "metadata": {
    "deletable": false,
    "editable": false
   },
   "outputs": [
    {
     "name": "stdout",
     "output_type": "stream",
     "text": [
      "~~~~~~~~~~~~~~~~~~~~~~~~~~~~~~~~~~~~~~~~~~~~~~~~~~~~~~~~~~~~~~~~~~~~~\n",
      "Running tests\n",
      "\n",
      "---------------------------------------------------------------------\n",
      "Test summary\n",
      "    Passed: 2\n",
      "    Failed: 0\n",
      "[ooooooooook] 100.0% passed\n",
      "\n"
     ]
    }
   ],
   "source": [
    "ok.grade(\"q1_7\");"
   ]
  },
  {
   "cell_type": "markdown",
   "metadata": {
    "deletable": false,
    "editable": false
   },
   "source": [
    "**Question 8.** In one or two sentences, describe the association (if any) that is illustrated by this scatter diagram. Does the diagram show that reduced child mortality causes parents to choose to have fewer children?\n",
    "\n",
    "<!--\n",
    "BEGIN QUESTION\n",
    "name: q1_8\n",
    "manual: true\n",
    "-->\n",
    "<!-- EXPORT TO PDF -->"
   ]
  },
  {
   "cell_type": "markdown",
   "metadata": {
    "deletable": false,
    "export_pdf": true,
    "manual_grade": true,
    "manual_problem_id": "global_pop_8"
   },
   "source": [
    "This plot shows that there is a very strong positive association between the Children per woman and child mortality. As one increases, so does the other. This provides evidence that the two are associated but we cannot confirm causation, only correlation."
   ]
  },
  {
   "cell_type": "markdown",
   "metadata": {},
   "source": [
    "### Checkpoint (due Friday 2/21)\n",
    "#### Congratulations, you have reached the checkpoint! Run the submit cell below to generate the checkpoint submission."
   ]
  },
  {
   "cell_type": "code",
   "execution_count": 20,
   "metadata": {},
   "outputs": [
    {
     "data": {
      "application/javascript": [
       "IPython.notebook.save_checkpoint();"
      ],
      "text/plain": [
       "<IPython.core.display.Javascript object>"
      ]
     },
     "metadata": {},
     "output_type": "display_data"
    },
    {
     "data": {
      "application/javascript": [
       "IPython.notebook.save_notebook();"
      ],
      "text/plain": [
       "<IPython.core.display.Javascript object>"
      ]
     },
     "metadata": {},
     "output_type": "display_data"
    },
    {
     "name": "stdout",
     "output_type": "stream",
     "text": [
      "Saving notebook... Saved 'project1.ipynb'.\n",
      "Submit... 100% complete\n",
      "Submission successful for user: srini.t@berkeley.edu\n",
      "URL: https://okpy.org/cal/data8/sp20/project1/submissions/085Mzv\n",
      "\n"
     ]
    }
   ],
   "source": [
    "_ = ok.submit()"
   ]
  },
  {
   "cell_type": "markdown",
   "metadata": {
    "deletable": false,
    "editable": false
   },
   "source": [
    "### The World\n",
    "\n",
    "The change observed in Bangladesh since 1970 can also be observed in many other developing countries: health services improve, life expectancy increases, and child mortality decreases. At the same time, the fertility rate often plummets, and so the population growth rate decreases despite increasing longevity."
   ]
  },
  {
   "cell_type": "markdown",
   "metadata": {
    "deletable": false,
    "editable": false
   },
   "source": [
    "Run the cell below to generate two overlaid histograms, one for 1960 and one for 2010, that show the distributions of total fertility rates for these two years among all 201 countries in the `fertility` table."
   ]
  },
  {
   "cell_type": "code",
   "execution_count": 21,
   "metadata": {
    "deletable": false
   },
   "outputs": [
    {
     "data": {
      "image/png": "[encoded data removed]",
      "text/plain": [
       "<Figure size 432x288 with 1 Axes>"
      ]
     },
     "metadata": {},
     "output_type": "display_data"
    }
   ],
   "source": [
    "Table().with_columns(\n",
    "    '1960', fertility.where('time', 1960).column(2),\n",
    "    '2010', fertility.where('time', 2010).column(2)\n",
    ").hist(bins=np.arange(0, 10, 0.5), unit='child per woman')\n",
    "_ = plots.xlabel('Children per woman')\n",
    "_ = plots.ylabel('Percent per children per woman')\n",
    "_ = plots.xticks(np.arange(10))"
   ]
  },
  {
   "cell_type": "markdown",
   "metadata": {
    "deletable": false,
    "editable": false
   },
   "source": [
    "**Question 9.** Assign `fertility_statements` to an array of the numbers of each statement below that can be correctly inferred from these histograms.\n",
    "1. About the same number of countries had a fertility rate between 3.5 and 4.5 in both 1960 and 2010.\n",
    "1. In 2010, about 40% of countries had a fertility rate between 1.5 and 2.\n",
    "1. In 1960, less than 20% of countries had a fertility rate below 3.\n",
    "1. More countries had a fertility rate above 3 in 1960 than in 2010.\n",
    "1. At least half of countries had a fertility rate between 5 and 8 in 1960.\n",
    "1. At least half of countries had a fertility rate below 3 in 2010.\n",
    "\n",
    "<!--\n",
    "BEGIN QUESTION\n",
    "name: q1_9\n",
    "-->"
   ]
  },
  {
   "cell_type": "code",
   "execution_count": 22,
   "metadata": {
    "deletable": false
   },
   "outputs": [
    {
     "data": {
      "text/plain": [
       "array([1, 3, 4, 5, 6])"
      ]
     },
     "execution_count": 22,
     "metadata": {},
     "output_type": "execute_result"
    }
   ],
   "source": [
    "fertility_statements = make_array(1, 3, 4, 5, 6)\n",
    "fertility_statements"
   ]
  },
  {
   "cell_type": "code",
   "execution_count": 23,
   "metadata": {
    "deletable": false,
    "editable": false
   },
   "outputs": [
    {
     "name": "stdout",
     "output_type": "stream",
     "text": [
      "~~~~~~~~~~~~~~~~~~~~~~~~~~~~~~~~~~~~~~~~~~~~~~~~~~~~~~~~~~~~~~~~~~~~~\n",
      "Running tests\n",
      "\n",
      "---------------------------------------------------------------------\n",
      "Test summary\n",
      "    Passed: 1\n",
      "    Failed: 0\n",
      "[ooooooooook] 100.0% passed\n",
      "\n"
     ]
    }
   ],
   "source": [
    "ok.grade(\"q1_9\");"
   ]
  },
  {
   "cell_type": "markdown",
   "metadata": {
    "deletable": false,
    "editable": false
   },
   "source": [
    "**Question 10.** Draw a line plot of the world population from 1800 through 2005. The world population is the sum of all the country's populations. \n",
    "\n",
    "<!--\n",
    "BEGIN QUESTION\n",
    "name: q1_10\n",
    "manual: true\n",
    "-->\n",
    "<!-- EXPORT TO PDF -->"
   ]
  },
  {
   "cell_type": "code",
   "execution_count": 24,
   "metadata": {
    "deletable": false,
    "export_pdf": true,
    "manual_grade": true,
    "manual_problem_id": "global_pop_10",
    "scrolled": false
   },
   "outputs": [
    {
     "data": {
      "image/png": "[encoded data removed]",
      "text/plain": [
       "<Figure size 432x288 with 1 Axes>"
      ]
     },
     "metadata": {},
     "output_type": "display_data"
    }
   ],
   "source": [
    "#Fill in code here\n",
    "\n",
    "total_pop = population.where(\"time\", are.between(1800, 2006)).group(\"time\", sum)\n",
    "\n",
    "total_pop.plot(\"time\", \"population_total sum\")"
   ]
  },
  {
   "cell_type": "markdown",
   "metadata": {
    "deletable": false,
    "editable": false
   },
   "source": [
    "**Question 11.** Create a function `stats_for_year` that takes a `year` and returns a table of statistics. The table it returns should have four columns: `geo`, `population_total`, `children_per_woman_total_fertility`, and `child_mortality_under_5_per_1000_born`. Each row should contain one Alpha-3 country code and three statistics: population, fertility rate, and child mortality for that `year` from the `population`, `fertility` and `child_mortality` tables. Only include rows for which all three statistics are available for the country and year.\n",
    "\n",
    "In addition, restrict the result to country codes that appears in `big_50`, an array of the 50 most populous countries in 2010. This restriction will speed up computations later in the project.\n",
    "\n",
    "After you write `stats_for_year`, try calling `stats_for_year` on any year between 1960 and 2010. Try to understand the output of stats_for_year.\n",
    "\n",
    "*Hint*: The tests for this question are quite comprehensive, so if you pass the tests, your function is probably correct. However, without calling your function yourself and looking at the output, it will be very difficult to understand any problems you have, so try your best to write the function correctly and check that it works before you rely on the `ok` tests to confirm your work.\n",
    "\n",
    "<!--\n",
    "BEGIN QUESTION\n",
    "name: q1_11\n",
    "manual: false\n",
    "-->"
   ]
  },
  {
   "cell_type": "code",
   "execution_count": 25,
   "metadata": {
    "deletable": false
   },
   "outputs": [
    {
     "data": {
      "text/html": [
       "<table border=\"1\" class=\"dataframe\">\n",
       "    <thead>\n",
       "        <tr>\n",
       "            <th>geo</th> <th>population_total</th> <th>children_per_woman_total_fertility</th> <th>child_mortality_under_5_per_1000_born</th>\n",
       "        </tr>\n",
       "    </thead>\n",
       "    <tbody>\n",
       "        <tr>\n",
       "            <td>afg </td> <td>12022514        </td> <td>7.67                              </td> <td>290.8                                </td>\n",
       "        </tr>\n",
       "        <tr>\n",
       "            <td>arg </td> <td>25213388        </td> <td>3.2                               </td> <td>68.8                                 </td>\n",
       "        </tr>\n",
       "        <tr>\n",
       "            <td>bgd </td> <td>68658472        </td> <td>6.9                               </td> <td>220.7                                </td>\n",
       "        </tr>\n",
       "        <tr>\n",
       "            <td>bra </td> <td>103320787       </td> <td>4.68                              </td> <td>122.7                                </td>\n",
       "        </tr>\n",
       "        <tr>\n",
       "            <td>can </td> <td>22488744        </td> <td>1.88                              </td> <td>19                                   </td>\n",
       "        </tr>\n",
       "        <tr>\n",
       "            <td>chn </td> <td>869474823       </td> <td>4.51                              </td> <td>96.5                                 </td>\n",
       "        </tr>\n",
       "        <tr>\n",
       "            <td>cod </td> <td>21690604        </td> <td>6.3                               </td> <td>237.7                                </td>\n",
       "        </tr>\n",
       "        <tr>\n",
       "            <td>col </td> <td>23674505        </td> <td>4.96                              </td> <td>86.7                                 </td>\n",
       "        </tr>\n",
       "        <tr>\n",
       "            <td>deu </td> <td>78732884        </td> <td>1.7                               </td> <td>23.1                                 </td>\n",
       "        </tr>\n",
       "        <tr>\n",
       "            <td>dza </td> <td>15804428        </td> <td>7.55                              </td> <td>223.4                                </td>\n",
       "        </tr>\n",
       "    </tbody>\n",
       "</table>\n",
       "<p>... (40 rows omitted)</p>"
      ],
      "text/plain": [
       "geo  | population_total | children_per_woman_total_fertility | child_mortality_under_5_per_1000_born\n",
       "afg  | 12022514         | 7.67                               | 290.8\n",
       "arg  | 25213388         | 3.2                                | 68.8\n",
       "bgd  | 68658472         | 6.9                                | 220.7\n",
       "bra  | 103320787        | 4.68                               | 122.7\n",
       "can  | 22488744         | 1.88                               | 19\n",
       "chn  | 869474823        | 4.51                               | 96.5\n",
       "cod  | 21690604         | 6.3                                | 237.7\n",
       "col  | 23674505         | 4.96                               | 86.7\n",
       "deu  | 78732884         | 1.7                                | 23.1\n",
       "dza  | 15804428         | 7.55                               | 223.4\n",
       "... (40 rows omitted)"
      ]
     },
     "execution_count": 25,
     "metadata": {},
     "output_type": "execute_result"
    }
   ],
   "source": [
    "# We first create a population table that only includes the \n",
    "# 50 countries with the largest 2010 populations. We focus on \n",
    "# these 50 countries only so that plotting later will run faster.\n",
    "big_50 = population.where('time', are.equal_to(2010)).sort(\"population_total\", descending=True).take(np.arange(50)).column('geo')\n",
    "population_of_big_50 = population.where('time', are.above(1959)).where('geo', are.contained_in(big_50))\n",
    "\n",
    "def stats_for_year(year):\n",
    "    \"\"\"Return a table of the stats for each country that year.\"\"\"\n",
    "    p = population_of_big_50.where('time', are.equal_to(year)).drop('time')\n",
    "    f = fertility.where('time', are.equal_to(year)).drop('time')\n",
    "    c = child_mortality.where('time', are.equal_to(year)).drop('time')\n",
    "    \n",
    "    out = p.join(\"geo\", f).join(\"geo\", c)\n",
    "    \n",
    "    return(out)\n",
    "\n",
    "stats_for_year(1973)"
   ]
  },
  {
   "cell_type": "code",
   "execution_count": 26,
   "metadata": {
    "deletable": false,
    "editable": false
   },
   "outputs": [
    {
     "name": "stdout",
     "output_type": "stream",
     "text": [
      "~~~~~~~~~~~~~~~~~~~~~~~~~~~~~~~~~~~~~~~~~~~~~~~~~~~~~~~~~~~~~~~~~~~~~\n",
      "Running tests\n",
      "\n",
      "---------------------------------------------------------------------\n",
      "Test summary\n",
      "    Passed: 4\n",
      "    Failed: 0\n",
      "[ooooooooook] 100.0% passed\n",
      "\n"
     ]
    }
   ],
   "source": [
    "ok.grade(\"q1_11\");"
   ]
  },
  {
   "cell_type": "markdown",
   "metadata": {
    "deletable": false,
    "editable": false
   },
   "source": [
    "**Question 12.** Create a table called `pop_by_decade` with two columns called `decade` and `population`. It has a row for each `year` since 1960 that starts a decade. The `population` column contains the total population of all countries included in the result of `stats_for_year(year)` for the first `year` of the decade. For example, 1960 is the first year of the 1960's decade. You should see that these countries contain most of the world's population.\n",
    "\n",
    "*Hint:* One approach is to define a function `pop_for_year` that computes this total population, then `apply` it to the `decade` column.  The `stats_for_year` function from the previous question may be useful here.\n",
    "\n",
    "This first test is just a sanity check for your helper function if you choose to use it. You will not lose points for not implementing the function `pop_for_year`.\n",
    "\n",
    "**Note:** The cell where you will generate the `pop_by_decade` table is below the cell where you can choose to define the helper function `pop_for_year`. You should define your `pop_by_decade` table in the cell that starts with the table `decades` being defined. \n",
    "\n",
    "<!--\n",
    "BEGIN QUESTION\n",
    "name: q1_12_0\n",
    "manual: false\n",
    "points: 0\n",
    "-->"
   ]
  },
  {
   "cell_type": "code",
   "execution_count": 27,
   "metadata": {},
   "outputs": [
    {
     "data": {
      "text/plain": [
       "5367553063"
      ]
     },
     "execution_count": 27,
     "metadata": {},
     "output_type": "execute_result"
    }
   ],
   "source": [
    "def pop_for_year(year):\n",
    "    pop_sum = sum(stats_for_year(year).column(\"population_total\"))\n",
    "    return(pop_sum)\n",
    "pop_for_year(2000)"
   ]
  },
  {
   "cell_type": "code",
   "execution_count": 28,
   "metadata": {
    "deletable": false,
    "editable": false
   },
   "outputs": [
    {
     "name": "stdout",
     "output_type": "stream",
     "text": [
      "~~~~~~~~~~~~~~~~~~~~~~~~~~~~~~~~~~~~~~~~~~~~~~~~~~~~~~~~~~~~~~~~~~~~~\n",
      "Running tests\n",
      "\n",
      "---------------------------------------------------------------------\n",
      "Test summary\n",
      "    Passed: 3\n",
      "    Failed: 0\n",
      "[ooooooooook] 100.0% passed\n",
      "\n"
     ]
    }
   ],
   "source": [
    "ok.grade(\"q1_12_0\");"
   ]
  },
  {
   "cell_type": "markdown",
   "metadata": {
    "deletable": false,
    "editable": false
   },
   "source": [
    "Now that you've defined your helper function (if you've chosen to do so), define the `pop_by_decade` table.\n",
    "\n",
    "<!--\n",
    "BEGIN QUESTION\n",
    "name: q1_12\n",
    "manual: false\n",
    "-->"
   ]
  },
  {
   "cell_type": "code",
   "execution_count": 29,
   "metadata": {
    "deletable": false
   },
   "outputs": [
    {
     "data": {
      "text/html": [
       "<table border=\"1\" class=\"dataframe\">\n",
       "    <thead>\n",
       "        <tr>\n",
       "            <th>decade</th> <th>population</th>\n",
       "        </tr>\n",
       "    </thead>\n",
       "    <tbody>\n",
       "        <tr>\n",
       "            <td>1960  </td> <td>2,624,944,597</td>\n",
       "        </tr>\n",
       "        <tr>\n",
       "            <td>1970  </td> <td>3,211,487,418</td>\n",
       "        </tr>\n",
       "        <tr>\n",
       "            <td>1980  </td> <td>3,880,722,003</td>\n",
       "        </tr>\n",
       "        <tr>\n",
       "            <td>1990  </td> <td>4,648,434,558</td>\n",
       "        </tr>\n",
       "        <tr>\n",
       "            <td>2000  </td> <td>5,367,553,063</td>\n",
       "        </tr>\n",
       "        <tr>\n",
       "            <td>2010  </td> <td>6,040,810,517</td>\n",
       "        </tr>\n",
       "    </tbody>\n",
       "</table>"
      ],
      "text/plain": [
       "decade | population\n",
       "1960   | 2,624,944,597\n",
       "1970   | 3,211,487,418\n",
       "1980   | 3,880,722,003\n",
       "1990   | 4,648,434,558\n",
       "2000   | 5,367,553,063\n",
       "2010   | 6,040,810,517"
      ]
     },
     "execution_count": 29,
     "metadata": {},
     "output_type": "execute_result"
    }
   ],
   "source": [
    "decades = Table().with_column('decade', np.arange(1960, 2011, 10))\n",
    "\n",
    "decade_pop = decades.apply(pop_for_year, \"decade\")\n",
    "\n",
    "pop_by_decade = decades.with_column(\"population\", decade_pop)\n",
    "pop_by_decade.set_format(1, NumberFormatter)"
   ]
  },
  {
   "cell_type": "code",
   "execution_count": 30,
   "metadata": {
    "deletable": false,
    "editable": false
   },
   "outputs": [
    {
     "name": "stdout",
     "output_type": "stream",
     "text": [
      "~~~~~~~~~~~~~~~~~~~~~~~~~~~~~~~~~~~~~~~~~~~~~~~~~~~~~~~~~~~~~~~~~~~~~\n",
      "Running tests\n",
      "\n",
      "---------------------------------------------------------------------\n",
      "Test summary\n",
      "    Passed: 2\n",
      "    Failed: 0\n",
      "[ooooooooook] 100.0% passed\n",
      "\n"
     ]
    }
   ],
   "source": [
    "ok.grade(\"q1_12\");"
   ]
  },
  {
   "cell_type": "markdown",
   "metadata": {
    "deletable": false,
    "editable": false
   },
   "source": [
    "The `countries` table describes various characteristics of countries. The `country` column contains the same codes as the `geo` column in each of the other data tables (`population`, `fertility`, and `child_mortality`). The `world_6region` column classifies each country into a region of the world. Run the cell below to inspect the data."
   ]
  },
  {
   "cell_type": "code",
   "execution_count": 31,
   "metadata": {},
   "outputs": [
    {
     "data": {
      "text/html": [
       "<table border=\"1\" class=\"dataframe\">\n",
       "    <thead>\n",
       "        <tr>\n",
       "            <th>country</th> <th>name</th> <th>world_6region</th>\n",
       "        </tr>\n",
       "    </thead>\n",
       "    <tbody>\n",
       "        <tr>\n",
       "            <td>afg      </td> <td>Afghanistan          </td> <td>south_asia              </td>\n",
       "        </tr>\n",
       "        <tr>\n",
       "            <td>akr_a_dhe</td> <td>Akrotiri and Dhekelia</td> <td>europe_central_asia     </td>\n",
       "        </tr>\n",
       "        <tr>\n",
       "            <td>alb      </td> <td>Albania              </td> <td>europe_central_asia     </td>\n",
       "        </tr>\n",
       "        <tr>\n",
       "            <td>dza      </td> <td>Algeria              </td> <td>middle_east_north_africa</td>\n",
       "        </tr>\n",
       "        <tr>\n",
       "            <td>asm      </td> <td>American Samoa       </td> <td>east_asia_pacific       </td>\n",
       "        </tr>\n",
       "        <tr>\n",
       "            <td>and      </td> <td>Andorra              </td> <td>europe_central_asia     </td>\n",
       "        </tr>\n",
       "        <tr>\n",
       "            <td>ago      </td> <td>Angola               </td> <td>sub_saharan_africa      </td>\n",
       "        </tr>\n",
       "        <tr>\n",
       "            <td>aia      </td> <td>Anguilla             </td> <td>america                 </td>\n",
       "        </tr>\n",
       "        <tr>\n",
       "            <td>atg      </td> <td>Antigua and Barbuda  </td> <td>america                 </td>\n",
       "        </tr>\n",
       "        <tr>\n",
       "            <td>arg      </td> <td>Argentina            </td> <td>america                 </td>\n",
       "        </tr>\n",
       "    </tbody>\n",
       "</table>\n",
       "<p>... (245 rows omitted)</p>"
      ],
      "text/plain": [
       "country   | name                  | world_6region\n",
       "afg       | Afghanistan           | south_asia\n",
       "akr_a_dhe | Akrotiri and Dhekelia | europe_central_asia\n",
       "alb       | Albania               | europe_central_asia\n",
       "dza       | Algeria               | middle_east_north_africa\n",
       "asm       | American Samoa        | east_asia_pacific\n",
       "and       | Andorra               | europe_central_asia\n",
       "ago       | Angola                | sub_saharan_africa\n",
       "aia       | Anguilla              | america\n",
       "atg       | Antigua and Barbuda   | america\n",
       "arg       | Argentina             | america\n",
       "... (245 rows omitted)"
      ]
     },
     "execution_count": 31,
     "metadata": {},
     "output_type": "execute_result"
    }
   ],
   "source": [
    "countries = Table.read_table('countries.csv').where('country', are.contained_in(population.group('geo').column('geo')))\n",
    "countries.select('country', 'name', 'world_6region')"
   ]
  },
  {
   "cell_type": "markdown",
   "metadata": {
    "deletable": false,
    "editable": false
   },
   "source": [
    "**Question 13.** Create a table called `region_counts` that has two columns, `region` and `count`. It should contain two columns: a region column and a count column that contains the number of countries in each region that appear in the result of `stats_for_year(1960)`. For example, one row would have `south_asia` as its `world_6region` value and an integer as its `count` value: the number of large South Asian countries for which we have population, fertility, and child mortality numbers from 1960.\n",
    "\n",
    "<!--\n",
    "BEGIN QUESTION\n",
    "name: q1_13\n",
    "-->"
   ]
  },
  {
   "cell_type": "code",
   "execution_count": 32,
   "metadata": {
    "deletable": false
   },
   "outputs": [
    {
     "data": {
      "text/html": [
       "<table border=\"1\" class=\"dataframe\">\n",
       "    <thead>\n",
       "        <tr>\n",
       "            <th>region</th> <th>count</th>\n",
       "        </tr>\n",
       "    </thead>\n",
       "    <tbody>\n",
       "        <tr>\n",
       "            <td>america                 </td> <td>8    </td>\n",
       "        </tr>\n",
       "        <tr>\n",
       "            <td>east_asia_pacific       </td> <td>10   </td>\n",
       "        </tr>\n",
       "        <tr>\n",
       "            <td>europe_central_asia     </td> <td>10   </td>\n",
       "        </tr>\n",
       "        <tr>\n",
       "            <td>middle_east_north_africa</td> <td>7    </td>\n",
       "        </tr>\n",
       "        <tr>\n",
       "            <td>south_asia              </td> <td>5    </td>\n",
       "        </tr>\n",
       "        <tr>\n",
       "            <td>sub_saharan_africa      </td> <td>10   </td>\n",
       "        </tr>\n",
       "    </tbody>\n",
       "</table>"
      ],
      "text/plain": [
       "region                   | count\n",
       "america                  | 8\n",
       "east_asia_pacific        | 10\n",
       "europe_central_asia      | 10\n",
       "middle_east_north_africa | 7\n",
       "south_asia               | 5\n",
       "sub_saharan_africa       | 10"
      ]
     },
     "execution_count": 32,
     "metadata": {},
     "output_type": "execute_result"
    }
   ],
   "source": [
    "region_counts = stats_for_year(1960).join(\"geo\", countries, \"country\").group(\"world_6region\").relabel(\"world_6region\", \"region\")\n",
    "region_counts"
   ]
  },
  {
   "cell_type": "code",
   "execution_count": 33,
   "metadata": {
    "deletable": false,
    "editable": false
   },
   "outputs": [
    {
     "name": "stdout",
     "output_type": "stream",
     "text": [
      "~~~~~~~~~~~~~~~~~~~~~~~~~~~~~~~~~~~~~~~~~~~~~~~~~~~~~~~~~~~~~~~~~~~~~\n",
      "Running tests\n",
      "\n",
      "---------------------------------------------------------------------\n",
      "Test summary\n",
      "    Passed: 2\n",
      "    Failed: 0\n",
      "[ooooooooook] 100.0% passed\n",
      "\n"
     ]
    }
   ],
   "source": [
    "ok.grade(\"q1_13\");"
   ]
  },
  {
   "cell_type": "markdown",
   "metadata": {
    "deletable": false,
    "editable": false
   },
   "source": [
    "The following scatter diagram compares total fertility rate and child mortality rate for each country in 1960. The area of each dot represents the population of the country, and the color represents its region of the world. Run the cell. Do you think you can identify any of the dots?"
   ]
  },
  {
   "cell_type": "code",
   "execution_count": 34,
   "metadata": {
    "deletable": false
   },
   "outputs": [
    {
     "data": {
      "image/png": "[encoded data removed]",
      "text/plain": [
       "<Figure size 360x360 with 1 Axes>"
      ]
     },
     "metadata": {},
     "output_type": "display_data"
    }
   ],
   "source": [
    "from functools import lru_cache as cache\n",
    "\n",
    "# This cache annotation makes sure that if the same year\n",
    "# is passed as an argument twice, the work of computing\n",
    "# the result is only carried out once.\n",
    "@cache(None)\n",
    "def stats_relabeled(year):\n",
    "    \"\"\"Relabeled and cached version of stats_for_year.\"\"\"\n",
    "    return stats_for_year(year).relabel(2, 'Children per woman').relabel(3, 'Child deaths per 1000 born')\n",
    "\n",
    "def fertility_vs_child_mortality(year):\n",
    "    \"\"\"Draw a color scatter diagram comparing child mortality and fertility.\"\"\"\n",
    "    with_region = stats_relabeled(year).join('geo', countries.select('country', 'world_6region'), 'country')\n",
    "    with_region.scatter(2, 3, sizes=1, group=4, s=500)\n",
    "    plots.xlim(0,10)\n",
    "    plots.ylim(-50, 500)\n",
    "    plots.title(year)\n",
    "\n",
    "fertility_vs_child_mortality(1960)"
   ]
  },
  {
   "cell_type": "markdown",
   "metadata": {
    "deletable": false,
    "editable": false
   },
   "source": [
    "**Question 14.** Assign `scatter_statements` to an array of the numbers of each statement below that can be inferred from this scatter diagram for 1960. \n",
    "1. As a whole, the `europe_central_asia` region had the lowest child mortality rate.\n",
    "1. The lowest child mortality rate of any country was from an `east_asia_pacific` country.\n",
    "1. Most countries had a fertility rate above 5.\n",
    "1. There was an association between child mortality and fertility.\n",
    "1. The two largest countries by population also had the two highest child mortality rate.\n",
    "\n",
    "<!--\n",
    "BEGIN QUESTION\n",
    "name: q1_14\n",
    "-->"
   ]
  },
  {
   "cell_type": "code",
   "execution_count": 35,
   "metadata": {
    "deletable": false
   },
   "outputs": [],
   "source": [
    "scatter_statements = make_array(1, 3, 4)"
   ]
  },
  {
   "cell_type": "code",
   "execution_count": 35,
   "metadata": {
    "deletable": false,
    "editable": false
   },
   "outputs": [
    {
     "name": "stdout",
     "output_type": "stream",
     "text": [
      "~~~~~~~~~~~~~~~~~~~~~~~~~~~~~~~~~~~~~~~~~~~~~~~~~~~~~~~~~~~~~~~~~~~~~\n",
      "Running tests\n",
      "\n",
      "---------------------------------------------------------------------\n",
      "Test summary\n",
      "    Passed: 1\n",
      "    Failed: 0\n",
      "[ooooooooook] 100.0% passed\n",
      "\n"
     ]
    }
   ],
   "source": [
    "ok.grade(\"q1_14\");"
   ]
  },
  {
   "cell_type": "markdown",
   "metadata": {
    "deletable": false
   },
   "source": [
    "The result of the cell below is interactive. Drag the slider to the right to see how countries have changed over time. You'll find that the great divide between so-called \"Western\" and \"developing\" countries that existed in the 1960's has nearly disappeared. This shift in fertility rates is the reason that the global population is expected to grow more slowly in the 21st century than it did in the 19th and 20th centuries.\n",
    "\n",
    "**Note:** Don't worry if a red warning pops up when running the cell below. You'll still be able to run the cell!"
   ]
  },
  {
   "cell_type": "code",
   "execution_count": 52,
   "metadata": {
    "deletable": false,
    "scrolled": false
   },
   "outputs": [
    {
     "name": "stderr",
     "output_type": "stream",
     "text": [
      "/srv/app/venv/lib/python3.6/site-packages/datascience/tables.py:193: FutureWarning: Implicit column method lookup is deprecated.\n",
      "  warnings.warn(\"Implicit column method lookup is deprecated.\", FutureWarning)\n"
     ]
    },
    {
     "data": {
      "application/vnd.jupyter.widget-view+json": {
       "model_id": "985d9bf93a5a46f0a6935eaef6ede518",
       "version_major": 2,
       "version_minor": 0
      },
      "text/plain": [
       "interactive(children=(IntSlider(value=1960, description='year', max=2015, min=1960), Output()), _dom_classes=(…"
      ]
     },
     "metadata": {},
     "output_type": "display_data"
    }
   ],
   "source": [
    "import ipywidgets as widgets\n",
    "\n",
    "# This part takes a few minutes to run because it \n",
    "# computes 55 tables in advance: one for each year.\n",
    "Table().with_column('Year', np.arange(1960, 2016)).apply(stats_relabeled, 'Year')\n",
    "\n",
    "_ = widgets.interact(fertility_vs_child_mortality, \n",
    "                     year=widgets.IntSlider(min=1960, max=2015, value=1960))"
   ]
  },
  {
   "cell_type": "markdown",
   "metadata": {
    "deletable": false,
    "editable": false
   },
   "source": [
    "Now is a great time to take a break and watch the same data presented by [Hans Rosling in a 2010 TEDx talk](https://www.gapminder.org/videos/reducing-child-mortality-a-moral-and-environmental-imperative) with smoother animation and witty commentary."
   ]
  },
  {
   "cell_type": "markdown",
   "metadata": {
    "deletable": false,
    "editable": false
   },
   "source": [
    "## 2. Global Poverty\n"
   ]
  },
  {
   "cell_type": "markdown",
   "metadata": {
    "deletable": false,
    "editable": false
   },
   "source": [
    "In 1800, 85% of the world's 1 billion people lived in *extreme poverty*, defined by the United Nations as \"a condition characterized by severe deprivation of basic human needs, including food, safe drinking water, sanitation facilities, health, shelter, education and information.\" A common measure of extreme poverty is a person living on less than \\$1.25 per day.\n",
    "\n",
    "In 2018, the proportion of people living in extreme poverty was estimated to be 8%. Although the world rate of extreme poverty has declined consistently for hundreds of years, the number of people living in extreme poverty is still over 600 million. The United Nations recently adopted an [ambitious goal](http://www.un.org/sustainabledevelopment/poverty/): \"By 2030, eradicate extreme poverty for all people everywhere.\"\n",
    "In this section, we will examine extreme poverty trends around the world."
   ]
  },
  {
   "cell_type": "markdown",
   "metadata": {
    "deletable": false,
    "editable": false
   },
   "source": [
    "First, load the population and poverty rate by country and year and the country descriptions. While the `population` table has values for every recent year for many countries, the `poverty` table only includes certain years for each country in which a measurement of the rate of extreme poverty was available."
   ]
  },
  {
   "cell_type": "code",
   "execution_count": 36,
   "metadata": {},
   "outputs": [
    {
     "data": {
      "text/html": [
       "<table border=\"1\" class=\"dataframe\">\n",
       "    <thead>\n",
       "        <tr>\n",
       "            <th>geo</th> <th>time</th> <th>extreme_poverty_percent_people_below_125_a_day</th>\n",
       "        </tr>\n",
       "    </thead>\n",
       "    <tbody>\n",
       "        <tr>\n",
       "            <td>alb </td> <td>1996</td> <td>0.2                                           </td>\n",
       "        </tr>\n",
       "        <tr>\n",
       "            <td>alb </td> <td>2002</td> <td>0.73                                          </td>\n",
       "        </tr>\n",
       "        <tr>\n",
       "            <td>alb </td> <td>2004</td> <td>0.53                                          </td>\n",
       "        </tr>\n",
       "    </tbody>\n",
       "</table>\n",
       "<p>... (1096 rows omitted)</p>"
      ],
      "text/plain": [
       "<IPython.core.display.HTML object>"
      ]
     },
     "metadata": {},
     "output_type": "display_data"
    }
   ],
   "source": [
    "population = Table.read_table('population.csv')\n",
    "countries = Table.read_table('countries.csv').where('country', are.contained_in(population.group('geo').column('geo')))\n",
    "poverty = Table.read_table('poverty.csv')\n",
    "poverty.show(3)"
   ]
  },
  {
   "cell_type": "markdown",
   "metadata": {
    "deletable": false,
    "editable": false
   },
   "source": [
    "**Question 1.** Assign `latest_poverty` to a three-column table with one row for each country that appears in the `poverty` table. The first column should contain the 3-letter code for the country. The second column should contain the most recent year for which an extreme poverty rate is available for the country. The third column should contain the poverty rate in that year. **Do not change the last line, so that the labels of your table are set correctly.**\n",
    "\n",
    "*Hint*: think about how ```group``` works: it does a sequential search of the table (from top to bottom) and collects values in the array in the order in which they appear, and then applies a function to that array. The `first` function may be helpful, but you are not required to use it.\n",
    "\n",
    "<!--\n",
    "BEGIN QUESTION\n",
    "name: q2_1\n",
    "-->"
   ]
  },
  {
   "cell_type": "code",
   "execution_count": 37,
   "metadata": {
    "deletable": false
   },
   "outputs": [
    {
     "data": {
      "text/html": [
       "<table border=\"1\" class=\"dataframe\">\n",
       "    <thead>\n",
       "        <tr>\n",
       "            <th>geo</th> <th>time</th> <th>poverty_percent</th>\n",
       "        </tr>\n",
       "    </thead>\n",
       "    <tbody>\n",
       "        <tr>\n",
       "            <td>ago </td> <td>2009</td> <td>43.37          </td>\n",
       "        </tr>\n",
       "        <tr>\n",
       "            <td>alb </td> <td>2012</td> <td>0.46           </td>\n",
       "        </tr>\n",
       "        <tr>\n",
       "            <td>arg </td> <td>2011</td> <td>1.41           </td>\n",
       "        </tr>\n",
       "        <tr>\n",
       "            <td>arm </td> <td>2012</td> <td>1.75           </td>\n",
       "        </tr>\n",
       "        <tr>\n",
       "            <td>aus </td> <td>2003</td> <td>1.36           </td>\n",
       "        </tr>\n",
       "        <tr>\n",
       "            <td>aut </td> <td>2004</td> <td>0.34           </td>\n",
       "        </tr>\n",
       "        <tr>\n",
       "            <td>aze </td> <td>2008</td> <td>0.31           </td>\n",
       "        </tr>\n",
       "        <tr>\n",
       "            <td>bdi </td> <td>2006</td> <td>81.32          </td>\n",
       "        </tr>\n",
       "        <tr>\n",
       "            <td>bel </td> <td>2000</td> <td>0.5            </td>\n",
       "        </tr>\n",
       "        <tr>\n",
       "            <td>ben </td> <td>2012</td> <td>51.61          </td>\n",
       "        </tr>\n",
       "    </tbody>\n",
       "</table>\n",
       "<p>... (135 rows omitted)</p>"
      ],
      "text/plain": [
       "geo  | time | poverty_percent\n",
       "ago  | 2009 | 43.37\n",
       "alb  | 2012 | 0.46\n",
       "arg  | 2011 | 1.41\n",
       "arm  | 2012 | 1.75\n",
       "aus  | 2003 | 1.36\n",
       "aut  | 2004 | 0.34\n",
       "aze  | 2008 | 0.31\n",
       "bdi  | 2006 | 81.32\n",
       "bel  | 2000 | 0.5\n",
       "ben  | 2012 | 51.61\n",
       "... (135 rows omitted)"
      ]
     },
     "execution_count": 37,
     "metadata": {},
     "output_type": "execute_result"
    }
   ],
   "source": [
    "def first(values):\n",
    "    return values.item(0)\n",
    "\n",
    "latest_poverty = poverty.sort(\"time\", descending = True).group(\"geo\", first)\n",
    "latest_poverty = latest_poverty.relabeled(0, 'geo').relabeled(1, 'time').relabeled(2, 'poverty_percent') # You should *not* change this line.\n",
    "latest_poverty"
   ]
  },
  {
   "cell_type": "code",
   "execution_count": 38,
   "metadata": {
    "deletable": false,
    "editable": false
   },
   "outputs": [
    {
     "name": "stdout",
     "output_type": "stream",
     "text": [
      "~~~~~~~~~~~~~~~~~~~~~~~~~~~~~~~~~~~~~~~~~~~~~~~~~~~~~~~~~~~~~~~~~~~~~\n",
      "Running tests\n",
      "\n",
      "---------------------------------------------------------------------\n",
      "Test summary\n",
      "    Passed: 2\n",
      "    Failed: 0\n",
      "[ooooooooook] 100.0% passed\n",
      "\n"
     ]
    }
   ],
   "source": [
    "ok.grade(\"q2_1\");"
   ]
  },
  {
   "cell_type": "markdown",
   "metadata": {
    "deletable": false,
    "editable": false
   },
   "source": [
    "**Question 2.** Using both `latest_poverty` and `population`, create a four-column table called `recent_poverty_total` with one row for each country in `latest_poverty`. The four columns should have the following labels and contents, in the following order:\n",
    "1. `geo` contains the 3-letter country code,\n",
    "1. `poverty_percent` contains the most recent poverty percent,\n",
    "1. `population_total` contains the population of the country in 2010,\n",
    "1. `poverty_total` contains the number of people in poverty **rounded to the nearest integer**, based on the 2010 population and most recent poverty rate.\n",
    "\n",
    "<!--\n",
    "BEGIN QUESTION\n",
    "name: q2_2\n",
    "-->"
   ]
  },
  {
   "cell_type": "code",
   "execution_count": 39,
   "metadata": {
    "deletable": false
   },
   "outputs": [
    {
     "data": {
      "text/html": [
       "<table border=\"1\" class=\"dataframe\">\n",
       "    <thead>\n",
       "        <tr>\n",
       "            <th>geo</th> <th>poverty_percent</th> <th>population_total</th> <th>poverty_total</th>\n",
       "        </tr>\n",
       "    </thead>\n",
       "    <tbody>\n",
       "        <tr>\n",
       "            <td>ago </td> <td>43.37          </td> <td>21219954        </td> <td>9.20309e+06  </td>\n",
       "        </tr>\n",
       "        <tr>\n",
       "            <td>alb </td> <td>0.46           </td> <td>2901883         </td> <td>13349        </td>\n",
       "        </tr>\n",
       "        <tr>\n",
       "            <td>arg </td> <td>1.41           </td> <td>41222875        </td> <td>581243       </td>\n",
       "        </tr>\n",
       "        <tr>\n",
       "            <td>arm </td> <td>1.75           </td> <td>2963496         </td> <td>51861        </td>\n",
       "        </tr>\n",
       "        <tr>\n",
       "            <td>aus </td> <td>1.36           </td> <td>22162863        </td> <td>301415       </td>\n",
       "        </tr>\n",
       "        <tr>\n",
       "            <td>aut </td> <td>0.34           </td> <td>8391986         </td> <td>28533        </td>\n",
       "        </tr>\n",
       "        <tr>\n",
       "            <td>aze </td> <td>0.31           </td> <td>9099893         </td> <td>28210        </td>\n",
       "        </tr>\n",
       "        <tr>\n",
       "            <td>bdi </td> <td>81.32          </td> <td>9461117         </td> <td>7.69378e+06  </td>\n",
       "        </tr>\n",
       "        <tr>\n",
       "            <td>bel </td> <td>0.5            </td> <td>10929978        </td> <td>54650        </td>\n",
       "        </tr>\n",
       "        <tr>\n",
       "            <td>ben </td> <td>51.61          </td> <td>9509798         </td> <td>4.90801e+06  </td>\n",
       "        </tr>\n",
       "    </tbody>\n",
       "</table>\n",
       "<p>... (135 rows omitted)</p>"
      ],
      "text/plain": [
       "geo  | poverty_percent | population_total | poverty_total\n",
       "ago  | 43.37           | 21219954         | 9.20309e+06\n",
       "alb  | 0.46            | 2901883          | 13349\n",
       "arg  | 1.41            | 41222875         | 581243\n",
       "arm  | 1.75            | 2963496          | 51861\n",
       "aus  | 1.36            | 22162863         | 301415\n",
       "aut  | 0.34            | 8391986          | 28533\n",
       "aze  | 0.31            | 9099893          | 28210\n",
       "bdi  | 81.32           | 9461117          | 7.69378e+06\n",
       "bel  | 0.5             | 10929978         | 54650\n",
       "ben  | 51.61           | 9509798          | 4.90801e+06\n",
       "... (135 rows omitted)"
      ]
     },
     "execution_count": 39,
     "metadata": {},
     "output_type": "execute_result"
    }
   ],
   "source": [
    "pop_2010 = population.where(\"time\", are.equal_to(2010)).drop(\"time\")\n",
    "poverty_and_pop = latest_poverty.join(\"geo\", pop_2010).drop(\"time\")\n",
    "\n",
    "recent_pov_tot = np.round((poverty_and_pop.column(\"poverty_percent\")/100)*poverty_and_pop.column(\"population_total\"))\n",
    "\n",
    "recent_poverty_total = poverty_and_pop.with_column(\"poverty_total\", recent_pov_tot)\n",
    "recent_poverty_total"
   ]
  },
  {
   "cell_type": "code",
   "execution_count": 40,
   "metadata": {
    "deletable": false,
    "editable": false
   },
   "outputs": [
    {
     "name": "stdout",
     "output_type": "stream",
     "text": [
      "~~~~~~~~~~~~~~~~~~~~~~~~~~~~~~~~~~~~~~~~~~~~~~~~~~~~~~~~~~~~~~~~~~~~~\n",
      "Running tests\n",
      "\n",
      "---------------------------------------------------------------------\n",
      "Test summary\n",
      "    Passed: 3\n",
      "    Failed: 0\n",
      "[ooooooooook] 100.0% passed\n",
      "\n"
     ]
    }
   ],
   "source": [
    "ok.grade(\"q2_2\");"
   ]
  },
  {
   "cell_type": "markdown",
   "metadata": {
    "deletable": false,
    "editable": false
   },
   "source": [
    "**Question 3.** Assign the name `poverty_percent` to the known percentage of the world’s 2010 population that were living in extreme poverty. Assume that the `poverty_total` numbers in the `recent_poverty_total` table describe **all** people in 2010 living in extreme poverty. You should find a number that is above the 2018 global estimate of 8%, since many country-specific poverty rates are older than 2018.\n",
    "\n",
    "*Hint*: The sum of the `population_total` column in the `recent_poverty_total` table is not the world population, because only a subset of the world's countries are included in the `recent_poverty_total` table (only some countries have known poverty rates). Use the `population` table to compute the world's 2010 total population..\n",
    "\n",
    "<!--\n",
    "BEGIN QUESTION\n",
    "name: q2_3\n",
    "-->"
   ]
  },
  {
   "cell_type": "code",
   "execution_count": 41,
   "metadata": {
    "deletable": false
   },
   "outputs": [
    {
     "data": {
      "text/plain": [
       "14.299370218520854"
      ]
     },
     "execution_count": 41,
     "metadata": {},
     "output_type": "execute_result"
    }
   ],
   "source": [
    "poverty_percent = (sum(recent_poverty_total.column(\"poverty_total\"))/sum(population.where(\"time\", are.equal_to(2010)).column(\"population_total\")))*100\n",
    "poverty_percent"
   ]
  },
  {
   "cell_type": "code",
   "execution_count": 42,
   "metadata": {
    "deletable": false,
    "editable": false
   },
   "outputs": [
    {
     "name": "stdout",
     "output_type": "stream",
     "text": [
      "~~~~~~~~~~~~~~~~~~~~~~~~~~~~~~~~~~~~~~~~~~~~~~~~~~~~~~~~~~~~~~~~~~~~~\n",
      "Running tests\n",
      "\n",
      "---------------------------------------------------------------------\n",
      "Test summary\n",
      "    Passed: 1\n",
      "    Failed: 0\n",
      "[ooooooooook] 100.0% passed\n",
      "\n"
     ]
    }
   ],
   "source": [
    "ok.grade(\"q2_3\");"
   ]
  },
  {
   "cell_type": "markdown",
   "metadata": {
    "deletable": false,
    "editable": false
   },
   "source": [
    "The `countries` table includes not only the name and region of countries, but also their positions on the globe."
   ]
  },
  {
   "cell_type": "code",
   "execution_count": 43,
   "metadata": {
    "deletable": false,
    "editable": false
   },
   "outputs": [
    {
     "data": {
      "text/html": [
       "<table border=\"1\" class=\"dataframe\">\n",
       "    <thead>\n",
       "        <tr>\n",
       "            <th>country</th> <th>name</th> <th>world_4region</th> <th>latitude</th> <th>longitude</th>\n",
       "        </tr>\n",
       "    </thead>\n",
       "    <tbody>\n",
       "        <tr>\n",
       "            <td>afg      </td> <td>Afghanistan          </td> <td>asia         </td> <td>33      </td> <td>66       </td>\n",
       "        </tr>\n",
       "        <tr>\n",
       "            <td>akr_a_dhe</td> <td>Akrotiri and Dhekelia</td> <td>europe       </td> <td>nan     </td> <td>nan      </td>\n",
       "        </tr>\n",
       "        <tr>\n",
       "            <td>alb      </td> <td>Albania              </td> <td>europe       </td> <td>41      </td> <td>20       </td>\n",
       "        </tr>\n",
       "        <tr>\n",
       "            <td>dza      </td> <td>Algeria              </td> <td>africa       </td> <td>28      </td> <td>3        </td>\n",
       "        </tr>\n",
       "        <tr>\n",
       "            <td>asm      </td> <td>American Samoa       </td> <td>asia         </td> <td>-11.056 </td> <td>-171.082 </td>\n",
       "        </tr>\n",
       "        <tr>\n",
       "            <td>and      </td> <td>Andorra              </td> <td>europe       </td> <td>42.5078 </td> <td>1.52109  </td>\n",
       "        </tr>\n",
       "        <tr>\n",
       "            <td>ago      </td> <td>Angola               </td> <td>africa       </td> <td>-12.5   </td> <td>18.5     </td>\n",
       "        </tr>\n",
       "        <tr>\n",
       "            <td>aia      </td> <td>Anguilla             </td> <td>americas     </td> <td>18.2167 </td> <td>-63.05   </td>\n",
       "        </tr>\n",
       "        <tr>\n",
       "            <td>atg      </td> <td>Antigua and Barbuda  </td> <td>americas     </td> <td>17.05   </td> <td>-61.8    </td>\n",
       "        </tr>\n",
       "        <tr>\n",
       "            <td>arg      </td> <td>Argentina            </td> <td>americas     </td> <td>-34     </td> <td>-64      </td>\n",
       "        </tr>\n",
       "    </tbody>\n",
       "</table>\n",
       "<p>... (245 rows omitted)</p>"
      ],
      "text/plain": [
       "country   | name                  | world_4region | latitude | longitude\n",
       "afg       | Afghanistan           | asia          | 33       | 66\n",
       "akr_a_dhe | Akrotiri and Dhekelia | europe        | nan      | nan\n",
       "alb       | Albania               | europe        | 41       | 20\n",
       "dza       | Algeria               | africa        | 28       | 3\n",
       "asm       | American Samoa        | asia          | -11.056  | -171.082\n",
       "and       | Andorra               | europe        | 42.5078  | 1.52109\n",
       "ago       | Angola                | africa        | -12.5    | 18.5\n",
       "aia       | Anguilla              | americas      | 18.2167  | -63.05\n",
       "atg       | Antigua and Barbuda   | americas      | 17.05    | -61.8\n",
       "arg       | Argentina             | americas      | -34      | -64\n",
       "... (245 rows omitted)"
      ]
     },
     "execution_count": 43,
     "metadata": {},
     "output_type": "execute_result"
    }
   ],
   "source": [
    "countries.select('country', 'name', 'world_4region', 'latitude', 'longitude')"
   ]
  },
  {
   "cell_type": "markdown",
   "metadata": {
    "deletable": false,
    "editable": false
   },
   "source": [
    "**Question 4.** Using both `countries` and `recent_poverty_total`, create a five-column table called `poverty_map` with one row for every country in `recent_poverty_total`.  The five columns should have the following labels and contents:\n",
    "1. `latitude` contains the country's latitude,\n",
    "1. `longitude` contains the country's longitude,\n",
    "1. `name` contains the country's name,\n",
    "1. `region` contains the country's region from the `world_4region` column of `countries`,\n",
    "1. `poverty_total` contains the country's poverty total.\n",
    "\n",
    "<!--\n",
    "BEGIN QUESTION\n",
    "name: q2_4\n",
    "-->"
   ]
  },
  {
   "cell_type": "code",
   "execution_count": 44,
   "metadata": {
    "deletable": false
   },
   "outputs": [
    {
     "data": {
      "text/html": [
       "<table border=\"1\" class=\"dataframe\">\n",
       "    <thead>\n",
       "        <tr>\n",
       "            <th>latitude</th> <th>longitude</th> <th>name</th> <th>region</th> <th>poverty_total</th>\n",
       "        </tr>\n",
       "    </thead>\n",
       "    <tbody>\n",
       "        <tr>\n",
       "            <td>-12.5   </td> <td>18.5     </td> <td>Angola    </td> <td>africa  </td> <td>9.20309e+06  </td>\n",
       "        </tr>\n",
       "        <tr>\n",
       "            <td>41      </td> <td>20       </td> <td>Albania   </td> <td>europe  </td> <td>13349        </td>\n",
       "        </tr>\n",
       "        <tr>\n",
       "            <td>-34     </td> <td>-64      </td> <td>Argentina </td> <td>americas</td> <td>581243       </td>\n",
       "        </tr>\n",
       "        <tr>\n",
       "            <td>40.25   </td> <td>45       </td> <td>Armenia   </td> <td>europe  </td> <td>51861        </td>\n",
       "        </tr>\n",
       "        <tr>\n",
       "            <td>-25     </td> <td>135      </td> <td>Australia </td> <td>asia    </td> <td>301415       </td>\n",
       "        </tr>\n",
       "        <tr>\n",
       "            <td>47.3333 </td> <td>13.3333  </td> <td>Austria   </td> <td>europe  </td> <td>28533        </td>\n",
       "        </tr>\n",
       "        <tr>\n",
       "            <td>40.5    </td> <td>47.5     </td> <td>Azerbaijan</td> <td>europe  </td> <td>28210        </td>\n",
       "        </tr>\n",
       "        <tr>\n",
       "            <td>-3.5    </td> <td>30       </td> <td>Burundi   </td> <td>africa  </td> <td>7.69378e+06  </td>\n",
       "        </tr>\n",
       "        <tr>\n",
       "            <td>50.75   </td> <td>4.5      </td> <td>Belgium   </td> <td>europe  </td> <td>54650        </td>\n",
       "        </tr>\n",
       "        <tr>\n",
       "            <td>9.5     </td> <td>2.25     </td> <td>Benin     </td> <td>africa  </td> <td>4.90801e+06  </td>\n",
       "        </tr>\n",
       "    </tbody>\n",
       "</table>\n",
       "<p>... (135 rows omitted)</p>"
      ],
      "text/plain": [
       "latitude | longitude | name       | region   | poverty_total\n",
       "-12.5    | 18.5      | Angola     | africa   | 9.20309e+06\n",
       "41       | 20        | Albania    | europe   | 13349\n",
       "-34      | -64       | Argentina  | americas | 581243\n",
       "40.25    | 45        | Armenia    | europe   | 51861\n",
       "-25      | 135       | Australia  | asia     | 301415\n",
       "47.3333  | 13.3333   | Austria    | europe   | 28533\n",
       "40.5     | 47.5      | Azerbaijan | europe   | 28210\n",
       "-3.5     | 30        | Burundi    | africa   | 7.69378e+06\n",
       "50.75    | 4.5       | Belgium    | europe   | 54650\n",
       "9.5      | 2.25      | Benin      | africa   | 4.90801e+06\n",
       "... (135 rows omitted)"
      ]
     },
     "execution_count": 44,
     "metadata": {},
     "output_type": "execute_result"
    }
   ],
   "source": [
    "poverty_map = recent_poverty_total.join(\"geo\", countries, \"country\").select(\"latitude\", \"longitude\", \"name\", \"world_4region\", \"poverty_total\")\n",
    "poverty_map = poverty_map.relabel(\"world_4region\", \"region\")\n",
    "poverty_map"
   ]
  },
  {
   "cell_type": "code",
   "execution_count": 45,
   "metadata": {
    "deletable": false,
    "editable": false
   },
   "outputs": [
    {
     "name": "stdout",
     "output_type": "stream",
     "text": [
      "~~~~~~~~~~~~~~~~~~~~~~~~~~~~~~~~~~~~~~~~~~~~~~~~~~~~~~~~~~~~~~~~~~~~~\n",
      "Running tests\n",
      "\n",
      "---------------------------------------------------------------------\n",
      "Test summary\n",
      "    Passed: 2\n",
      "    Failed: 0\n",
      "[ooooooooook] 100.0% passed\n",
      "\n"
     ]
    }
   ],
   "source": [
    "ok.grade(\"q2_4\");"
   ]
  },
  {
   "cell_type": "markdown",
   "metadata": {
    "deletable": false,
    "editable": false
   },
   "source": [
    "Run the cell below to draw a map of the world in which the areas of circles represent the number of people living in extreme poverty. Double-click on the map to zoom in."
   ]
  },
  {
   "cell_type": "code",
   "execution_count": 46,
   "metadata": {
    "deletable": false,
    "editable": false
   },
   "outputs": [
    {
     "data": {
      "text/html": [
       "<div style=\"width:100%;\"><div style=\"position:relative;width:100%;height:0;padding-bottom:60%;\"><iframe src=\"about:blank\" style=\"position:absolute;width:100%;height:100%;left:0;top:0;border:none !important;\" data-html=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 onload=\"this.contentDocument.open();this.contentDocument.write(atob(this.getAttribute('data-html')));this.contentDocument.close();\" allowfullscreen webkitallowfullscreen mozallowfullscreen></iframe></div></div>"
      ],
      "text/plain": [
       "<datascience.maps.Map at 0x7f1e112944a8>"
      ]
     },
     "execution_count": 46,
     "metadata": {},
     "output_type": "execute_result"
    }
   ],
   "source": [
    "# It may take a few seconds to generate this map.\n",
    "colors = {'africa': 'blue', 'europe': 'black', 'asia': 'red', 'americas': 'green'}\n",
    "scaled = poverty_map.with_columns(\n",
    "    'poverty_total', 1e-4 * poverty_map.column('poverty_total'),\n",
    "    'region', poverty_map.apply(colors.get, 'region')\n",
    ")\n",
    "Circle.map_table(scaled)"
   ]
  },
  {
   "cell_type": "markdown",
   "metadata": {
    "deletable": false,
    "editable": false
   },
   "source": [
    "Although people live in extreme poverty throughout the world (with more than 5 million in the United States), the largest numbers are in Asia and Africa."
   ]
  },
  {
   "cell_type": "markdown",
   "metadata": {
    "deletable": false,
    "editable": false
   },
   "source": [
    "**Question 5.** Assign `largest` to a two-column table with the `name` (not the 3-letter code) and `poverty_total` of the 10 countries with the largest number of people living in extreme poverty.\n",
    "\n",
    "<!--\n",
    "BEGIN QUESTION\n",
    "name: q2_5\n",
    "-->"
   ]
  },
  {
   "cell_type": "code",
   "execution_count": 46,
   "metadata": {
    "deletable": false
   },
   "outputs": [
    {
     "data": {
      "text/html": [
       "<table border=\"1\" class=\"dataframe\">\n",
       "    <thead>\n",
       "        <tr>\n",
       "            <th>name</th> <th>poverty_total</th>\n",
       "        </tr>\n",
       "    </thead>\n",
       "    <tbody>\n",
       "        <tr>\n",
       "            <td>India           </td> <td>290,881,638.00</td>\n",
       "        </tr>\n",
       "        <tr>\n",
       "            <td>Nigeria         </td> <td>98,891,167.00 </td>\n",
       "        </tr>\n",
       "        <tr>\n",
       "            <td>China           </td> <td>83,944,643.00 </td>\n",
       "        </tr>\n",
       "        <tr>\n",
       "            <td>Bangladesh      </td> <td>65,574,256.00 </td>\n",
       "        </tr>\n",
       "        <tr>\n",
       "            <td>Congo, Dem. Rep.</td> <td>57,841,438.00 </td>\n",
       "        </tr>\n",
       "        <tr>\n",
       "            <td>Indonesia       </td> <td>39,141,326.00 </td>\n",
       "        </tr>\n",
       "        <tr>\n",
       "            <td>Ethiopia        </td> <td>32,213,991.00 </td>\n",
       "        </tr>\n",
       "        <tr>\n",
       "            <td>Pakistan        </td> <td>21,663,595.00 </td>\n",
       "        </tr>\n",
       "        <tr>\n",
       "            <td>Tanzania        </td> <td>19,847,979.00 </td>\n",
       "        </tr>\n",
       "        <tr>\n",
       "            <td>Madagascar      </td> <td>18,480,426.00 </td>\n",
       "        </tr>\n",
       "    </tbody>\n",
       "</table>"
      ],
      "text/plain": [
       "name             | poverty_total\n",
       "India            | 290,881,638.00\n",
       "Nigeria          | 98,891,167.00\n",
       "China            | 83,944,643.00\n",
       "Bangladesh       | 65,574,256.00\n",
       "Congo, Dem. Rep. | 57,841,438.00\n",
       "Indonesia        | 39,141,326.00\n",
       "Ethiopia         | 32,213,991.00\n",
       "Pakistan         | 21,663,595.00\n",
       "Tanzania         | 19,847,979.00\n",
       "Madagascar       | 18,480,426.00"
      ]
     },
     "execution_count": 46,
     "metadata": {},
     "output_type": "execute_result"
    }
   ],
   "source": [
    "largest = poverty_map.sort(\"poverty_total\", descending = True).take(np.arange(0,10)).select(\"name\", \"poverty_total\")\n",
    "largest.set_format('poverty_total', NumberFormatter)"
   ]
  },
  {
   "cell_type": "code",
   "execution_count": 47,
   "metadata": {
    "deletable": false,
    "editable": false
   },
   "outputs": [
    {
     "name": "stdout",
     "output_type": "stream",
     "text": [
      "~~~~~~~~~~~~~~~~~~~~~~~~~~~~~~~~~~~~~~~~~~~~~~~~~~~~~~~~~~~~~~~~~~~~~\n",
      "Running tests\n",
      "\n",
      "---------------------------------------------------------------------\n",
      "Test summary\n",
      "    Passed: 3\n",
      "    Failed: 0\n",
      "[ooooooooook] 100.0% passed\n",
      "\n"
     ]
    }
   ],
   "source": [
    "ok.grade(\"q2_5\");"
   ]
  },
  {
   "cell_type": "markdown",
   "metadata": {
    "deletable": false
   },
   "source": [
    "**Question 6.** Write a function called `poverty_timeline` that takes **the name of a country** (not the geo code) as its argument. It should draw a line plot of the number of people living in poverty in that country with time on the horizontal axis. The line plot should have a point for each row in the `poverty` table for that country. To compute the population living in poverty from a poverty percentage, multiply by the population of the country **in that year**.\n",
    "\n",
    "*Hint:* To make your plot, you will first need to make a table.\n",
    "\n",
    "*Hint:* This question is long. Feel free to create cells and experiment. "
   ]
  },
  {
   "cell_type": "code",
   "execution_count": 48,
   "metadata": {},
   "outputs": [],
   "source": [
    "def poverty_timeline(country):\n",
    "    '''Draw a timeline of people living in extreme poverty in a country.'''\n",
    "    \n",
    "    master_table = countries.join(\"country\", poverty, \"geo\").select(\"country\", \"name\", \"extreme_poverty_percent_people_below_125_a_day\", \"time\")\n",
    "    \n",
    "    geo = master_table.column(\"country\")[0]\n",
    "    \n",
    "    country_table = master_table.where(\"name\", are.equal_to(country))\n",
    "    country_pop = population.where(\"geo\", are.equal_to(geo))\n",
    "    \n",
    "    country_table = country_table.join(\"time\", country_pop, \"time\")\n",
    "    \n",
    "    people_in_poverty = country_table.column(\"extreme_poverty_percent_people_below_125_a_day\")*country_table.column(\"population_total\")\n",
    "    \n",
    "    country_table = country_table.with_columns(\"percent impoverished\", people_in_poverty)\n",
    "    \n",
    "\n",
    "    country_table.plot(\"time\", \"percent impoverished\")\n",
    "    \n",
    "    \n",
    "    # This solution will take multiple lines of code. Use as many as you need\n",
    "    \n",
    "    \n",
    "#poverty_timeline(\"India\")"
   ]
  },
  {
   "cell_type": "markdown",
   "metadata": {
    "deletable": false,
    "editable": false
   },
   "source": [
    "Finally, draw the timelines below to see how the world is changing. You can check your work by comparing your graphs to the ones on [gapminder.org](https://www.gapminder.org/tools/#$state$entities$show$country$/$in@=ind;;;;&marker$axis_y$which=number_of_people_in_poverty&scaleType=linear&spaceRef:null;;;&chart-type=linechart).\n",
    "\n",
    "<!--\n",
    "BEGIN QUESTION\n",
    "name: q2_6\n",
    "manual: true\n",
    "-->\n",
    "<!-- EXPORT TO PDF -->"
   ]
  },
  {
   "cell_type": "code",
   "execution_count": 49,
   "metadata": {
    "export_pdf": true
   },
   "outputs": [
    {
     "data": {
      "image/png": "[encoded data removed]",
      "text/plain": [
       "<Figure size 432x288 with 1 Axes>"
      ]
     },
     "metadata": {},
     "output_type": "display_data"
    },
    {
     "data": {
      "image/png": "[encoded data removed]",
      "text/plain": [
       "<Figure size 432x288 with 1 Axes>"
      ]
     },
     "metadata": {},
     "output_type": "display_data"
    },
    {
     "data": {
      "image/png": "[encoded data removed]",
      "text/plain": [
       "<Figure size 432x288 with 1 Axes>"
      ]
     },
     "metadata": {},
     "output_type": "display_data"
    },
    {
     "data": {
      "image/png": "[encoded data removed]",
      "text/plain": [
       "<Figure size 432x288 with 1 Axes>"
      ]
     },
     "metadata": {},
     "output_type": "display_data"
    }
   ],
   "source": [
    "poverty_timeline('India')\n",
    "poverty_timeline('Nigeria')\n",
    "poverty_timeline('China')\n",
    "poverty_timeline('United States')"
   ]
  },
  {
   "cell_type": "markdown",
   "metadata": {
    "deletable": false,
    "editable": false
   },
   "source": [
    "Although the number of people living in extreme poverty has been increasing in Nigeria and the United States, the massive decreases in China and India have shaped the overall trend that extreme poverty is decreasing worldwide, both in percentage and in absolute number. \n",
    "\n",
    "To learn more, watch [Hans Rosling in a 2015 film](https://www.gapminder.org/videos/dont-panic-end-poverty/) about the UN goal of eradicating extreme poverty from the world. \n",
    "\n",
    "Below, we've also added an interactive dropdown menu for you to visualize `poverty_timeline` graphs for other countries. Note that each dropdown menu selection may take a few seconds to run."
   ]
  },
  {
   "cell_type": "code",
   "execution_count": 53,
   "metadata": {
    "deletable": false,
    "editable": false
   },
   "outputs": [
    {
     "data": {
      "application/vnd.jupyter.widget-view+json": {
       "model_id": "f27075f8b9b4441d93accd4d1e59f77d",
       "version_major": 2,
       "version_minor": 0
      },
      "text/plain": [
       "interactive(children=(Dropdown(description='country', options=('Angola', 'Albania', 'Argentina', 'Armenia', 'A…"
      ]
     },
     "metadata": {},
     "output_type": "display_data"
    }
   ],
   "source": [
    "# Just run this cell\n",
    "\n",
    "all_countries = poverty_map.column('name')\n",
    "_ = widgets.interact(poverty_timeline, country=list(all_countries))"
   ]
  },
  {
   "cell_type": "markdown",
   "metadata": {
    "deletable": false,
    "editable": false
   },
   "source": [
    "**You're finished!** Congratulations on mastering data visualization and table manipulation. Time to submit."
   ]
  },
  {
   "cell_type": "markdown",
   "metadata": {},
   "source": [
    "## 3. Submission\n"
   ]
  },
  {
   "cell_type": "markdown",
   "metadata": {
    "collapsed": true
   },
   "source": [
    "Once you're finished, select \"Save and Checkpoint\" in the File menu and then execute the `submit` cell below. The result will contain a link that you can use to check that your assignment has been submitted successfully. If you submit more than once before the deadline, we will only grade your final submission. If you mistakenly submit the wrong one, you can head to [okpy.org](https://okpy.org/) and flag the correct version. To do so, go to the website, click on this assignment, and find the version you would like to have graded. There should be an option to flag that submission for grading!"
   ]
  },
  {
   "cell_type": "code",
   "execution_count": 55,
   "metadata": {},
   "outputs": [
    {
     "data": {
      "application/javascript": [
       "IPython.notebook.save_checkpoint();"
      ],
      "text/plain": [
       "<IPython.core.display.Javascript object>"
      ]
     },
     "metadata": {},
     "output_type": "display_data"
    },
    {
     "data": {
      "application/javascript": [
       "IPython.notebook.save_notebook();"
      ],
      "text/plain": [
       "<IPython.core.display.Javascript object>"
      ]
     },
     "metadata": {},
     "output_type": "display_data"
    },
    {
     "name": "stdout",
     "output_type": "stream",
     "text": [
      "Saving notebook... Saved 'project1.ipynb'.\n",
      "Submit... 100% complete\n",
      "Submission successful for user: srini.t@berkeley.edu\n",
      "URL: https://okpy.org/cal/data8/sp20/project1/submissions/QkP7MG\n",
      "\n"
     ]
    }
   ],
   "source": [
    "_ = ok.submit()"
   ]
  },
  {
   "cell_type": "code",
   "execution_count": 54,
   "metadata": {},
   "outputs": [
    {
     "name": "stdout",
     "output_type": "stream",
     "text": [
      "Running all tests...\n",
      "~~~~~~~~~~~~~~~~~~~~~~~~~~~~~~~~~~~~~~~~~~~~~~~~~~~~~~~~~~~~~~~~~~~~~\n",
      "Running tests\n",
      "\n",
      "---------------------------------------------------------------------\n",
      "Test summary\n",
      "    Passed: 2\n",
      "    Failed: 0\n",
      "[ooooooooook] 100.0% passed\n",
      "\n",
      "~~~~~~~~~~~~~~~~~~~~~~~~~~~~~~~~~~~~~~~~~~~~~~~~~~~~~~~~~~~~~~~~~~~~~\n",
      "Running tests\n",
      "\n",
      "---------------------------------------------------------------------\n",
      "Test summary\n",
      "    Passed: 1\n",
      "    Failed: 0\n",
      "[ooooooooook] 100.0% passed\n",
      "\n",
      "~~~~~~~~~~~~~~~~~~~~~~~~~~~~~~~~~~~~~~~~~~~~~~~~~~~~~~~~~~~~~~~~~~~~~\n",
      "Running tests\n",
      "\n",
      "---------------------------------------------------------------------\n",
      "Test summary\n",
      "    Passed: 3\n",
      "    Failed: 0\n",
      "[ooooooooook] 100.0% passed\n",
      "\n",
      "~~~~~~~~~~~~~~~~~~~~~~~~~~~~~~~~~~~~~~~~~~~~~~~~~~~~~~~~~~~~~~~~~~~~~\n",
      "Running tests\n",
      "\n",
      "---------------------------------------------------------------------\n",
      "Test summary\n",
      "    Passed: 1\n",
      "    Failed: 0\n",
      "[ooooooooook] 100.0% passed\n",
      "\n",
      "~~~~~~~~~~~~~~~~~~~~~~~~~~~~~~~~~~~~~~~~~~~~~~~~~~~~~~~~~~~~~~~~~~~~~\n",
      "Running tests\n",
      "\n",
      "---------------------------------------------------------------------\n",
      "Test summary\n",
      "    Passed: 2\n",
      "    Failed: 0\n",
      "[ooooooooook] 100.0% passed\n",
      "\n",
      "~~~~~~~~~~~~~~~~~~~~~~~~~~~~~~~~~~~~~~~~~~~~~~~~~~~~~~~~~~~~~~~~~~~~~\n",
      "Running tests\n",
      "\n",
      "---------------------------------------------------------------------\n",
      "Test summary\n",
      "    Passed: 1\n",
      "    Failed: 0\n",
      "[ooooooooook] 100.0% passed\n",
      "\n",
      "~~~~~~~~~~~~~~~~~~~~~~~~~~~~~~~~~~~~~~~~~~~~~~~~~~~~~~~~~~~~~~~~~~~~~\n",
      "Running tests\n",
      "\n",
      "---------------------------------------------------------------------\n",
      "Test summary\n",
      "    Passed: 2\n",
      "    Failed: 0\n",
      "[ooooooooook] 100.0% passed\n",
      "\n",
      "~~~~~~~~~~~~~~~~~~~~~~~~~~~~~~~~~~~~~~~~~~~~~~~~~~~~~~~~~~~~~~~~~~~~~\n",
      "Running tests\n",
      "\n",
      "---------------------------------------------------------------------\n",
      "Test summary\n",
      "    Passed: 2\n",
      "    Failed: 0\n",
      "[ooooooooook] 100.0% passed\n",
      "\n",
      "~~~~~~~~~~~~~~~~~~~~~~~~~~~~~~~~~~~~~~~~~~~~~~~~~~~~~~~~~~~~~~~~~~~~~\n",
      "Running tests\n",
      "\n",
      "---------------------------------------------------------------------\n",
      "Test summary\n",
      "    Passed: 3\n",
      "    Failed: 0\n",
      "[ooooooooook] 100.0% passed\n",
      "\n",
      "~~~~~~~~~~~~~~~~~~~~~~~~~~~~~~~~~~~~~~~~~~~~~~~~~~~~~~~~~~~~~~~~~~~~~\n",
      "Running tests\n",
      "\n",
      "---------------------------------------------------------------------\n",
      "Test summary\n",
      "    Passed: 4\n",
      "    Failed: 0\n",
      "[ooooooooook] 100.0% passed\n",
      "\n",
      "~~~~~~~~~~~~~~~~~~~~~~~~~~~~~~~~~~~~~~~~~~~~~~~~~~~~~~~~~~~~~~~~~~~~~\n",
      "Running tests\n",
      "\n",
      "---------------------------------------------------------------------\n",
      "Test summary\n",
      "    Passed: 2\n",
      "    Failed: 0\n",
      "[ooooooooook] 100.0% passed\n",
      "\n",
      "~~~~~~~~~~~~~~~~~~~~~~~~~~~~~~~~~~~~~~~~~~~~~~~~~~~~~~~~~~~~~~~~~~~~~\n",
      "Running tests\n",
      "\n",
      "---------------------------------------------------------------------\n",
      "Test summary\n",
      "    Passed: 3\n",
      "    Failed: 0\n",
      "[ooooooooook] 100.0% passed\n",
      "\n",
      "~~~~~~~~~~~~~~~~~~~~~~~~~~~~~~~~~~~~~~~~~~~~~~~~~~~~~~~~~~~~~~~~~~~~~\n",
      "Running tests\n",
      "\n",
      "---------------------------------------------------------------------\n",
      "Test summary\n",
      "    Passed: 2\n",
      "    Failed: 0\n",
      "[ooooooooook] 100.0% passed\n",
      "\n",
      "~~~~~~~~~~~~~~~~~~~~~~~~~~~~~~~~~~~~~~~~~~~~~~~~~~~~~~~~~~~~~~~~~~~~~\n",
      "Running tests\n",
      "\n",
      "---------------------------------------------------------------------\n",
      "Test summary\n",
      "    Passed: 3\n",
      "    Failed: 0\n",
      "[ooooooooook] 100.0% passed\n",
      "\n",
      "~~~~~~~~~~~~~~~~~~~~~~~~~~~~~~~~~~~~~~~~~~~~~~~~~~~~~~~~~~~~~~~~~~~~~\n",
      "Running tests\n",
      "\n",
      "---------------------------------------------------------------------\n",
      "Test summary\n",
      "    Passed: 2\n",
      "    Failed: 0\n",
      "[ooooooooook] 100.0% passed\n",
      "\n",
      "Finished running all tests.\n"
     ]
    }
   ],
   "source": [
    "# For your convenience, you can run this cell to run all the tests at once!\n",
    "import os\n",
    "print(\"Running all tests...\")\n",
    "_ = [ok.grade(q[:-3]) for q in os.listdir(\"tests\") if q.startswith('q') and len(q) <= 10]\n",
    "print(\"Finished running all tests.\")"
   ]
  },
  {
   "cell_type": "code",
   "execution_count": null,
   "metadata": {},
   "outputs": [],
   "source": []
  }
 ],
 "metadata": {
  "kernelspec": {
   "display_name": "Python 3",
   "language": "python",
   "name": "python3"
  },
  "language_info": {
   "codemirror_mode": {
    "name": "ipython",
    "version": 3
   },
   "file_extension": ".py",
   "mimetype": "text/x-python",
   "name": "python",
   "nbconvert_exporter": "python",
   "pygments_lexer": "ipython3",
   "version": "3.6.9"
  }
 },
 "nbformat": 4,
 "nbformat_minor": 1
}
